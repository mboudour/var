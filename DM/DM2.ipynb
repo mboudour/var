{
 "cells": [
  {
   "cell_type": "code",
   "execution_count": 1,
   "id": "parliamentary-shield",
   "metadata": {},
   "outputs": [],
   "source": [
    "import math\n",
    "def primefactors(n):\n",
    "    fl=[]\n",
    "    while n % 2 == 0:\n",
    "        fl.append(2)\n",
    "        n = int(n / 2)\n",
    "    for i in range(3,int(math.sqrt(n))+1,2):\n",
    "        while (n % i == 0):\n",
    "            fl.append(i)\n",
    "            n = int(n / i)\n",
    "    if n > 2:\n",
    "        fl.append(n)\n",
    "    p=1\n",
    "    for i in fl:\n",
    "        p*=i\n",
    "    return fl, p"
   ]
  },
  {
   "cell_type": "code",
   "execution_count": 2,
   "id": "impaired-stream",
   "metadata": {},
   "outputs": [
    {
     "data": {
      "text/plain": [
       "([2, 2, 2, 2, 2, 2, 7, 43, 1979], 38123456)"
      ]
     },
     "execution_count": 2,
     "metadata": {},
     "output_type": "execute_result"
    }
   ],
   "source": [
    "primefactors(38123456)"
   ]
  },
  {
   "cell_type": "code",
   "execution_count": null,
   "id": "animated-parallel",
   "metadata": {},
   "outputs": [],
   "source": []
  }
 ],
 "metadata": {
  "kernelspec": {
   "display_name": "Python 3",
   "language": "python",
   "name": "python3"
  },
  "language_info": {
   "codemirror_mode": {
    "name": "ipython",
    "version": 3
   },
   "file_extension": ".py",
   "mimetype": "text/x-python",
   "name": "python",
   "nbconvert_exporter": "python",
   "pygments_lexer": "ipython3",
   "version": "3.7.1"
  }
 },
 "nbformat": 4,
 "nbformat_minor": 5
}
