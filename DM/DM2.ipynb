{
 "cells": [
  {
   "cell_type": "code",
   "execution_count": 18,
   "id": "imposed-romance",
   "metadata": {},
   "outputs": [],
   "source": [
    "import math\n",
    "def primefactors(n):\n",
    "    while n % 2 == 0:\n",
    "        print (2),\n",
    "        n = int(n / 2)\n",
    "    for i in range(3,int(math.sqrt(n))+1,2):\n",
    "        while (n % i == 0):\n",
    "            print (i)\n",
    "            n = int(n / i)\n",
    "    if n > 2:\n",
    "        print (n)"
   ]
  },
  {
   "cell_type": "code",
   "execution_count": 20,
   "id": "variable-campus",
   "metadata": {},
   "outputs": [
    {
     "name": "stdout",
     "output_type": "stream",
     "text": [
      "2\n",
      "2\n",
      "2\n",
      "2\n",
      "2\n",
      "2\n",
      "7\n",
      "43\n",
      "1979\n"
     ]
    }
   ],
   "source": [
    "primefactors(38123456)"
   ]
  },
  {
   "cell_type": "code",
   "execution_count": null,
   "id": "discrete-circle",
   "metadata": {},
   "outputs": [],
   "source": []
  }
 ],
 "metadata": {
  "kernelspec": {
   "display_name": "Python 3",
   "language": "python",
   "name": "python3"
  },
  "language_info": {
   "codemirror_mode": {
    "name": "ipython",
    "version": 3
   },
   "file_extension": ".py",
   "mimetype": "text/x-python",
   "name": "python",
   "nbconvert_exporter": "python",
   "pygments_lexer": "ipython3",
   "version": "3.7.1"
  }
 },
 "nbformat": 4,
 "nbformat_minor": 5
}
