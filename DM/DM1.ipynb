{
 "cells": [
  {
   "cell_type": "code",
   "execution_count": 1,
   "id": "embedded-strategy",
   "metadata": {},
   "outputs": [],
   "source": [
    "def is_evenodd(num):\n",
    "    if type(num) != int:\n",
    "        print(num,\"is not an integer\")\n",
    "    else:\n",
    "        if num%2 == 0:\n",
    "            print(num,\"is an even integer\")\n",
    "        else:\n",
    "            print(num,\"is an odd integer\")\n",
    "            \n",
    "def is_primecomposite(num):\n",
    "    # prime numbers are greater than 1\n",
    "    if type(num) != int:\n",
    "        print(num,\"is not an integer\")\n",
    "    else:\n",
    "        if num <= 1:\n",
    "            print(num,\"is not an integer > 1\")\n",
    "        else:\n",
    "            if num > 1:\n",
    "            # check for factors\n",
    "                for i in range(2,num):\n",
    "                    if (num % i) == 0:\n",
    "                        out=\"%i is a composite number, %i = %ix%i\" %(num, num,i,num//i)\n",
    "                        return out\n",
    "                        break\n",
    "                else:\n",
    "                    out=\"%i is a prime number\" %num\n",
    "                    return out\n",
    "#         return out"
   ]
  },
  {
   "cell_type": "code",
   "execution_count": 2,
   "id": "wooden-rogers",
   "metadata": {},
   "outputs": [
    {
     "name": "stdout",
     "output_type": "stream",
     "text": [
      "42 is an even integer\n"
     ]
    },
    {
     "data": {
      "text/plain": [
       "'42 is a composite number, 42 = 2x21'"
      ]
     },
     "execution_count": 2,
     "metadata": {},
     "output_type": "execute_result"
    }
   ],
   "source": [
    "# Program to check if an integer is even or odd\n",
    "\n",
    "num = 42\n",
    "\n",
    "# To take input from the user\n",
    "# num = int(input(\"Enter an integer: \"))\n",
    "\n",
    "is_evenodd(num)\n",
    "is_primecomposite(num)"
   ]
  },
  {
   "cell_type": "code",
   "execution_count": 3,
   "id": "unlikely-happening",
   "metadata": {},
   "outputs": [
    {
     "name": "stdout",
     "output_type": "stream",
     "text": [
      "2 is a prime number\n",
      "3 is a prime number\n",
      "4 is a composite number, 4 = 2x2\n",
      "5 is a prime number\n",
      "6 is a composite number, 6 = 2x3\n",
      "7 is a prime number\n",
      "8 is a composite number, 8 = 2x4\n",
      "9 is a composite number, 9 = 3x3\n",
      "10 is a composite number, 10 = 2x5\n",
      "11 is a prime number\n",
      "12 is a composite number, 12 = 2x6\n",
      "13 is a prime number\n",
      "14 is a composite number, 14 = 2x7\n",
      "15 is a composite number, 15 = 3x5\n",
      "16 is a composite number, 16 = 2x8\n",
      "17 is a prime number\n",
      "18 is a composite number, 18 = 2x9\n",
      "19 is a prime number\n",
      "20 is a composite number, 20 = 2x10\n",
      "21 is a composite number, 21 = 3x7\n",
      "22 is a composite number, 22 = 2x11\n",
      "23 is a prime number\n",
      "24 is a composite number, 24 = 2x12\n",
      "25 is a composite number, 25 = 5x5\n",
      "26 is a composite number, 26 = 2x13\n",
      "27 is a composite number, 27 = 3x9\n",
      "28 is a composite number, 28 = 2x14\n",
      "29 is a prime number\n",
      "30 is a composite number, 30 = 2x15\n"
     ]
    }
   ],
   "source": [
    "for i in range(2,31):\n",
    "    print(is_primecomposite(i))"
   ]
  },
  {
   "cell_type": "code",
   "execution_count": 4,
   "id": "younger-charger",
   "metadata": {},
   "outputs": [
    {
     "data": {
      "text/plain": [
       "[2, 3, 5, 7, 11, 13]"
      ]
     },
     "execution_count": 4,
     "metadata": {},
     "output_type": "execute_result"
    }
   ],
   "source": [
    "nums=[]\n",
    "for i in range(2,31):\n",
    "    x=is_primecomposite(i)\n",
    "    if \"prime\" in x:\n",
    "        nums.append(i)\n",
    "nums=nums[:6]\n",
    "nums"
   ]
  },
  {
   "cell_type": "code",
   "execution_count": 5,
   "id": "earlier-extension",
   "metadata": {},
   "outputs": [
    {
     "data": {
      "text/plain": [
       "[4, 6, 8, 9, 10, 12]"
      ]
     },
     "execution_count": 5,
     "metadata": {},
     "output_type": "execute_result"
    }
   ],
   "source": [
    "nums=[]\n",
    "for i in range(2,31):\n",
    "    x=is_primecomposite(i)\n",
    "    if \"composite\" in x:\n",
    "        nums.append(i)\n",
    "nums=nums[:6]\n",
    "nums"
   ]
  },
  {
   "cell_type": "code",
   "execution_count": null,
   "id": "national-receiver",
   "metadata": {},
   "outputs": [],
   "source": []
  }
 ],
 "metadata": {
  "kernelspec": {
   "display_name": "Python 3",
   "language": "python",
   "name": "python3"
  },
  "language_info": {
   "codemirror_mode": {
    "name": "ipython",
    "version": 3
   },
   "file_extension": ".py",
   "mimetype": "text/x-python",
   "name": "python",
   "nbconvert_exporter": "python",
   "pygments_lexer": "ipython3",
   "version": "3.7.1"
  }
 },
 "nbformat": 4,
 "nbformat_minor": 5
}
