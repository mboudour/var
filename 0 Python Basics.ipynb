{
 "cells": [
  {
   "cell_type": "markdown",
   "metadata": {},
   "source": [
    "# PYTHON BASICS"
   ]
  },
  {
   "cell_type": "markdown",
   "metadata": {},
   "source": [
    "## 1. CORE PYTHON"
   ]
  },
  {
   "cell_type": "markdown",
   "metadata": {},
   "source": [
    "### Variables"
   ]
  },
  {
   "cell_type": "markdown",
   "metadata": {},
   "source": [
    "A **variable** is anything (its name cannot start by a number etc.!) to which a value is assigned."
   ]
  },
  {
   "cell_type": "code",
   "execution_count": 1,
   "metadata": {},
   "outputs": [
    {
     "data": {
      "text/plain": [
       "2"
      ]
     },
     "execution_count": 1,
     "metadata": {},
     "output_type": "execute_result"
    }
   ],
   "source": [
    "b = 2      # The value of b is an integer\n",
    "b"
   ]
  },
  {
   "cell_type": "code",
   "execution_count": 2,
   "metadata": {},
   "outputs": [
    {
     "data": {
      "text/plain": [
       "4.0"
      ]
     },
     "execution_count": 2,
     "metadata": {},
     "output_type": "execute_result"
    }
   ],
   "source": [
    "b = b*2.0  # Now the value of b is a float\n",
    "b"
   ]
  },
  {
   "cell_type": "markdown",
   "metadata": {},
   "source": [
    "### Printing Output"
   ]
  },
  {
   "cell_type": "markdown",
   "metadata": {},
   "source": [
    "Output can be displayed with the print function **￼print**(*object1*, *object2*,...) that converts *object1*, *object2*, and so on, to strings and prints them on the same line, separated by spaces. The **newline character ’\\n’** can be used to force a new line. "
   ]
  },
  {
   "cell_type": "code",
   "execution_count": 3,
   "metadata": {},
   "outputs": [
    {
     "name": "stdout",
     "output_type": "stream",
     "text": [
      "12.998 book ['a', 'b', 'c', 4.0]\n"
     ]
    }
   ],
   "source": [
    "a = 12.998\n",
    "b = \"book\"\n",
    "c = ['a','b','c',4.]\n",
    "print(a,b,c)"
   ]
  },
  {
   "cell_type": "code",
   "execution_count": 4,
   "metadata": {},
   "outputs": [
    {
     "name": "stdout",
     "output_type": "stream",
     "text": [
      "a = 12.998 \n",
      " b = book \n",
      " c = ['a', 'b', 'c', 4.0]\n"
     ]
    }
   ],
   "source": [
    "print('a =',a,'\\n','b =',b,'\\n','c =',c)"
   ]
  },
  {
   "cell_type": "markdown",
   "metadata": {},
   "source": [
    "#### Formatting print"
   ]
  },
  {
   "cell_type": "markdown",
   "metadata": {},
   "source": [
    "Output can be formatted with the *format method*. The simplest form of the conversion statement is<br/>\n",
    "￼￼￼<center>*print('{:fmt1} {:fmt2}...'.format(arg1,arg2,...))*</center>\n",
    "\n",
    "where *fmt1, fmt2,...* are the format specifications for *arg1, arg2,...*, respectively. \n",
    "\n",
    "Typically used format specifications are<br/>\n",
    "* *wd* for an integer<br/>\n",
    "* *w.df* for floating point notation<br/>\n",
    "* *w.de* for exponential notation\n",
    "\n",
    "where *w* is the width of the field and *d* is the number of digits after the decimal point. The output is right justified in the specified field and padded with blank spaces."
   ]
  },
  {
   "cell_type": "code",
   "execution_count": 5,
   "metadata": {},
   "outputs": [
    {
     "name": "stdout",
     "output_type": "stream",
     "text": [
      "123.46\n",
      "123.4568\n",
      "123.46 123.4568\n"
     ]
    }
   ],
   "source": [
    "a = 123.456789\n",
    "print('{:6.2f}'.format(a))\n",
    "print('{:8.4f}'.format(a))\n",
    "print('{:6.2f} {:8.4f}'.format(a,a))"
   ]
  },
  {
   "cell_type": "code",
   "execution_count": 6,
   "metadata": {},
   "outputs": [
    {
     "name": "stdout",
     "output_type": "stream",
     "text": [
      "    987\n",
      "0000987\n",
      "n=    987 n=0000987\n"
     ]
    }
   ],
   "source": [
    "n = 987\n",
    "print('{:7d}'.format(n))    # Pad with spaces\n",
    "print('{:07d}'.format(n))   # Pad with zeros\n",
    "print('n={:7d} n={:07d}'.format(n,n))"
   ]
  },
  {
   "cell_type": "code",
   "execution_count": 7,
   "metadata": {},
   "outputs": [
    {
     "name": "stdout",
     "output_type": "stream",
     "text": [
      "1.2e+02\n",
      "         1.2e+02\n",
      "0000000001.2e+02\n",
      "1.2e+02\n",
      "1.23e+02\n",
      "1.235e+02\n",
      "1.2345679e+02\n",
      "1.2e+02 1.23e+02 1.235e+02 1.2345679e+02\n"
     ]
    }
   ],
   "source": [
    "print('{:6.1e}'.format(a))\n",
    "print('{:16.1e}'.format(a))\n",
    "print('{:016.1e}'.format(a))\n",
    "print('{:6.1e}'.format(a))\n",
    "print('{:7.2e}'.format(a))\n",
    "print('{:8.3e}'.format(a))\n",
    "print('{:13.7e}'.format(a))\n",
    "print('{:6.1e} {:7.2e} {:8.3e} {:13.7e}'.format(a,a,a,a))"
   ]
  },
  {
   "cell_type": "markdown",
   "metadata": {},
   "source": [
    "### Arithmetic Operations"
   ]
  },
  {
   "cell_type": "markdown",
   "metadata": {},
   "source": [
    "Addition = + <br/>\n",
    "Subtraction = - <br/>\n",
    "Multiplication = * <br/>\n",
    "Division = / <br/>\n",
    "Exponentiation = ** <br/>\n",
    "Modular division = %"
   ]
  },
  {
   "cell_type": "code",
   "execution_count": 8,
   "metadata": {},
   "outputs": [
    {
     "name": "stdout",
     "output_type": "stream",
     "text": [
      "12.5\n",
      "-2.5\n",
      "37.5\n",
      "0.6666666666666666\n",
      "174692.81074217107\n",
      "2.5\n"
     ]
    }
   ],
   "source": [
    "x = 5\n",
    "y = 7.5\n",
    "print(x+y)\n",
    "print(x-y)\n",
    "print(x*y)\n",
    "print(x/y)\n",
    "print(x**y)\n",
    "print(y%x)"
   ]
  },
  {
   "cell_type": "markdown",
   "metadata": {},
   "source": [
    "#### Augmented assignment operators"
   ]
  },
  {
   "cell_type": "markdown",
   "metadata": {},
   "source": [
    "x += y is equivalent to x = x + y <br/>\n",
    "x -= y is equivalent to x = x - y <br/>\n",
    "x * = y is equivalent to x = x * y <br/>\n",
    "x /= y is equivalent to x = x / y <br/>\n",
    "x ** = y is equivalent to x = x ** y <br/>\n",
    "x %= y is equivalent to x = x % y <br/>"
   ]
  },
  {
   "cell_type": "markdown",
   "metadata": {},
   "source": [
    "### Strings"
   ]
  },
  {
   "cell_type": "markdown",
   "metadata": {},
   "source": [
    "**Strings** are enclosed between double quotes or single quotes (when nested quotes need to alternate)."
   ]
  },
  {
   "cell_type": "code",
   "execution_count": 9,
   "metadata": {},
   "outputs": [
    {
     "data": {
      "text/plain": [
       "\"Hello World! \\n The first thing 'everybody says' when learning to code\""
      ]
     },
     "execution_count": 9,
     "metadata": {},
     "output_type": "execute_result"
    }
   ],
   "source": [
    "string1 = \"Hello World! \\n The first thing 'everybody says' when learning to code\"\n",
    "string1"
   ]
  },
  {
   "cell_type": "code",
   "execution_count": 10,
   "metadata": {},
   "outputs": [
    {
     "name": "stdout",
     "output_type": "stream",
     "text": [
      "Hello World! \n",
      " The first thing 'everybody says' when learning to code\n"
     ]
    }
   ],
   "source": [
    "print(string1)"
   ]
  },
  {
   "cell_type": "code",
   "execution_count": 11,
   "metadata": {},
   "outputs": [
    {
     "name": "stdout",
     "output_type": "stream",
     "text": [
      "H\n"
     ]
    }
   ],
   "source": [
    "print(string1[0])   # The first character of string1"
   ]
  },
  {
   "cell_type": "code",
   "execution_count": 12,
   "metadata": {},
   "outputs": [
    {
     "name": "stdout",
     "output_type": "stream",
     "text": [
      "e\n"
     ]
    }
   ],
   "source": [
    "print(string1[-1])  # The last character of string1"
   ]
  },
  {
   "cell_type": "code",
   "execution_count": 13,
   "metadata": {},
   "outputs": [
    {
     "name": "stdout",
     "output_type": "stream",
     "text": [
      "ello World! \n",
      " The fi\n"
     ]
    }
   ],
   "source": [
    "print(string1[1:21])  # Slicing string1"
   ]
  },
  {
   "cell_type": "code",
   "execution_count": 14,
   "metadata": {},
   "outputs": [
    {
     "name": "stdout",
     "output_type": "stream",
     "text": [
      "Hello World! \n",
      " The first thing 'everybody says' when learning to code in any language\n"
     ]
    }
   ],
   "source": [
    "string2='in any language'\n",
    "print(string1 + ' ' + string2)   # Concatenation"
   ]
  },
  {
   "cell_type": "code",
   "execution_count": 15,
   "metadata": {},
   "outputs": [
    {
     "name": "stdout",
     "output_type": "stream",
     "text": [
      "Hello World! \n",
      " The first thing 'everybody says' when learning to codein any language\n"
     ]
    }
   ],
   "source": [
    "print(string1 + string2)"
   ]
  },
  {
   "cell_type": "code",
   "execution_count": 16,
   "metadata": {},
   "outputs": [
    {
     "name": "stdout",
     "output_type": "stream",
     "text": [
      "i\n"
     ]
    }
   ],
   "source": [
    "print(string2[0])"
   ]
  },
  {
   "cell_type": "code",
   "execution_count": 17,
   "metadata": {},
   "outputs": [],
   "source": [
    "# Strings are IMMUTABLE!\n",
    "# Uncommenting and running the following gives an error!\n",
    "\n",
    "# string2[0] = ' i'\n",
    "# print(string2)"
   ]
  },
  {
   "cell_type": "markdown",
   "metadata": {},
   "source": [
    "### Lists"
   ]
  },
  {
   "cell_type": "markdown",
   "metadata": {},
   "source": [
    "A **list** is a mutable sequence of any objects, separated by commas and enclosed in square brackets."
   ]
  },
  {
   "cell_type": "code",
   "execution_count": 18,
   "metadata": {},
   "outputs": [
    {
     "name": "stdout",
     "output_type": "stream",
     "text": [
      "[1.0, 2.0, 3.0, 4.0]\n"
     ]
    }
   ],
   "source": [
    "a = [1.0, 2.0, 3.0]\n",
    "\n",
    "a.append(4.0)        # Appending an element (at the end of the list)\n",
    "print(a)"
   ]
  },
  {
   "cell_type": "code",
   "execution_count": 19,
   "metadata": {},
   "outputs": [
    {
     "name": "stdout",
     "output_type": "stream",
     "text": [
      "[1.0, 1.5, 2.0, 3.0, 4.0]\n"
     ]
    }
   ],
   "source": [
    "a.insert(1,1.5)      # Inserting an eleemt at some position (here the second)\n",
    "print(a)"
   ]
  },
  {
   "cell_type": "code",
   "execution_count": 20,
   "metadata": {},
   "outputs": [
    {
     "name": "stdout",
     "output_type": "stream",
     "text": [
      "5\n"
     ]
    }
   ],
   "source": [
    "print(len(a))        # Length of a list"
   ]
  },
  {
   "cell_type": "code",
   "execution_count": 21,
   "metadata": {},
   "outputs": [
    {
     "data": {
      "text/plain": [
       "1.0"
      ]
     },
     "execution_count": 21,
     "metadata": {},
     "output_type": "execute_result"
    }
   ],
   "source": [
    "a[0]                 # First element of the list"
   ]
  },
  {
   "cell_type": "code",
   "execution_count": 22,
   "metadata": {},
   "outputs": [
    {
     "data": {
      "text/plain": [
       "4.0"
      ]
     },
     "execution_count": 22,
     "metadata": {},
     "output_type": "execute_result"
    }
   ],
   "source": [
    "a[-1]                # Last element of the list"
   ]
  },
  {
   "cell_type": "code",
   "execution_count": 23,
   "metadata": {},
   "outputs": [
    {
     "data": {
      "text/plain": [
       "[2.0, 3.0]"
      ]
     },
     "execution_count": 23,
     "metadata": {},
     "output_type": "execute_result"
    }
   ],
   "source": [
    "a[2:4]               # Slice of a list"
   ]
  },
  {
   "cell_type": "code",
   "execution_count": 24,
   "metadata": {},
   "outputs": [
    {
     "name": "stdout",
     "output_type": "stream",
     "text": [
      "[1.0, 1.5, 1.0, 1.0, 1.0, 4.0]\n"
     ]
    }
   ],
   "source": [
    "# Lists are MUTABLE!\n",
    "\n",
    "a[2:4] = [1.0, 1.0, 1.0]   # Modify selected elements\n",
    "print(a)"
   ]
  },
  {
   "cell_type": "markdown",
   "metadata": {},
   "source": [
    "#### The range list"
   ]
  },
  {
   "cell_type": "code",
   "execution_count": 25,
   "metadata": {},
   "outputs": [
    {
     "data": {
      "text/plain": [
       "[0, 1, 2, 3, 4]"
      ]
     },
     "execution_count": 25,
     "metadata": {},
     "output_type": "execute_result"
    }
   ],
   "source": [
    "r1 = range(5)\n",
    "list(r1)"
   ]
  },
  {
   "cell_type": "code",
   "execution_count": 26,
   "metadata": {},
   "outputs": [
    {
     "data": {
      "text/plain": [
       "[2, 3, 4, 5, 6, 7, 8]"
      ]
     },
     "execution_count": 26,
     "metadata": {},
     "output_type": "execute_result"
    }
   ],
   "source": [
    "r2 = range(2,9)\n",
    "list(r2)"
   ]
  },
  {
   "cell_type": "code",
   "execution_count": 27,
   "metadata": {},
   "outputs": [
    {
     "data": {
      "text/plain": [
       "[10, 12, 14, 16, 18]"
      ]
     },
     "execution_count": 27,
     "metadata": {},
     "output_type": "execute_result"
    }
   ],
   "source": [
    "r3 = range(10,20,2)\n",
    "list(r3)"
   ]
  },
  {
   "cell_type": "markdown",
   "metadata": {},
   "source": [
    "### Tuples"
   ]
  },
  {
   "cell_type": "markdown",
   "metadata": {},
   "source": [
    "A **tuple** is an immutable sequence of arbitrary objects, separated by commas and enclosed in parentheses. If the tuple contains a single object, a final comma is required; for example, x = (2,). "
   ]
  },
  {
   "cell_type": "code",
   "execution_count": 28,
   "metadata": {},
   "outputs": [
    {
     "name": "stdout",
     "output_type": "stream",
     "text": [
      "Mary\n",
      "John\n",
      "[6, 23, 68]\n"
     ]
    }
   ],
   "source": [
    "t = ('Mary','John',[6,23,68])\n",
    "print(t[0])\n",
    "print(t[1])\n",
    "print(t[2])"
   ]
  },
  {
   "cell_type": "code",
   "execution_count": 29,
   "metadata": {},
   "outputs": [
    {
     "name": "stdout",
     "output_type": "stream",
     "text": [
      "('Mary', 'John')\n",
      "('John', [6, 23, 68])\n"
     ]
    }
   ],
   "source": [
    "# Slicing\n",
    "\n",
    "print(t[0:2])\n",
    "print(t[1:])"
   ]
  },
  {
   "cell_type": "code",
   "execution_count": 30,
   "metadata": {},
   "outputs": [
    {
     "name": "stdout",
     "output_type": "stream",
     "text": [
      "('Mary', 'John', [6, 23, 68], -1)\n"
     ]
    }
   ],
   "source": [
    "s = (-1,)         # Appending an element (at the end of the tuple)\n",
    "print(t + s)  "
   ]
  },
  {
   "cell_type": "code",
   "execution_count": 31,
   "metadata": {},
   "outputs": [],
   "source": [
    "# No direct insertion of elements in a tuple (immutability)!\n",
    "# Uncommenting and running the following gives an error!\n",
    "\n",
    "# t[0:2] = ('Mary', 'John', 'Jack')"
   ]
  },
  {
   "cell_type": "code",
   "execution_count": 32,
   "metadata": {},
   "outputs": [
    {
     "name": "stdout",
     "output_type": "stream",
     "text": [
      "('Mary', 'John', 'Jack', [6, 23, 68])\n"
     ]
    }
   ],
   "source": [
    "# However, this can be overcome by the following trick!\n",
    "\n",
    "lt=list(t)\n",
    "lt.insert(2,'Jack')\n",
    "tt=tuple(lt)\n",
    "print(tt)"
   ]
  },
  {
   "cell_type": "markdown",
   "metadata": {},
   "source": [
    "### Types"
   ]
  },
  {
   "cell_type": "code",
   "execution_count": 33,
   "metadata": {},
   "outputs": [
    {
     "data": {
      "text/plain": [
       "str"
      ]
     },
     "execution_count": 33,
     "metadata": {},
     "output_type": "execute_result"
    }
   ],
   "source": [
    "x='Hi'\n",
    "type(x)"
   ]
  },
  {
   "cell_type": "code",
   "execution_count": 34,
   "metadata": {},
   "outputs": [
    {
     "data": {
      "text/plain": [
       "str"
      ]
     },
     "execution_count": 34,
     "metadata": {},
     "output_type": "execute_result"
    }
   ],
   "source": [
    "x='100.22'\n",
    "type(x)"
   ]
  },
  {
   "cell_type": "code",
   "execution_count": 35,
   "metadata": {},
   "outputs": [
    {
     "data": {
      "text/plain": [
       "int"
      ]
     },
     "execution_count": 35,
     "metadata": {},
     "output_type": "execute_result"
    }
   ],
   "source": [
    "x=10\n",
    "type(x)"
   ]
  },
  {
   "cell_type": "code",
   "execution_count": 36,
   "metadata": {},
   "outputs": [
    {
     "data": {
      "text/plain": [
       "float"
      ]
     },
     "execution_count": 36,
     "metadata": {},
     "output_type": "execute_result"
    }
   ],
   "source": [
    "x=10.5\n",
    "type(x)"
   ]
  },
  {
   "cell_type": "code",
   "execution_count": 37,
   "metadata": {},
   "outputs": [
    {
     "data": {
      "text/plain": [
       "complex"
      ]
     },
     "execution_count": 37,
     "metadata": {},
     "output_type": "execute_result"
    }
   ],
   "source": [
    "x=10.5+2j\n",
    "type(x)"
   ]
  },
  {
   "cell_type": "code",
   "execution_count": 38,
   "metadata": {},
   "outputs": [
    {
     "data": {
      "text/plain": [
       "list"
      ]
     },
     "execution_count": 38,
     "metadata": {},
     "output_type": "execute_result"
    }
   ],
   "source": [
    "x=[10.5,2]\n",
    "type(x)"
   ]
  },
  {
   "cell_type": "code",
   "execution_count": 39,
   "metadata": {},
   "outputs": [
    {
     "data": {
      "text/plain": [
       "tuple"
      ]
     },
     "execution_count": 39,
     "metadata": {},
     "output_type": "execute_result"
    }
   ],
   "source": [
    "x=(10.5,2)\n",
    "type(x)"
   ]
  },
  {
   "cell_type": "markdown",
   "metadata": {},
   "source": [
    "#### Conversions between types"
   ]
  },
  {
   "cell_type": "code",
   "execution_count": 40,
   "metadata": {},
   "outputs": [
    {
     "name": "stdout",
     "output_type": "stream",
     "text": [
      "10\n"
     ]
    },
    {
     "data": {
      "text/plain": [
       "str"
      ]
     },
     "execution_count": 40,
     "metadata": {},
     "output_type": "execute_result"
    }
   ],
   "source": [
    "x=10\n",
    "y=str(x)\n",
    "print(y)\n",
    "type(y)"
   ]
  },
  {
   "cell_type": "code",
   "execution_count": 41,
   "metadata": {},
   "outputs": [
    {
     "name": "stdout",
     "output_type": "stream",
     "text": [
      "10\n"
     ]
    },
    {
     "data": {
      "text/plain": [
       "int"
      ]
     },
     "execution_count": 41,
     "metadata": {},
     "output_type": "execute_result"
    }
   ],
   "source": [
    "x='10'\n",
    "y=int(x)\n",
    "print(y)\n",
    "type(y)"
   ]
  },
  {
   "cell_type": "code",
   "execution_count": 42,
   "metadata": {},
   "outputs": [
    {
     "name": "stdout",
     "output_type": "stream",
     "text": [
      "10.0\n"
     ]
    },
    {
     "data": {
      "text/plain": [
       "float"
      ]
     },
     "execution_count": 42,
     "metadata": {},
     "output_type": "execute_result"
    }
   ],
   "source": [
    "x='10'\n",
    "y=float(x)\n",
    "print(y)\n",
    "type(y)"
   ]
  },
  {
   "cell_type": "code",
   "execution_count": 43,
   "metadata": {},
   "outputs": [
    {
     "name": "stdout",
     "output_type": "stream",
     "text": [
      "10.6\n"
     ]
    },
    {
     "data": {
      "text/plain": [
       "float"
      ]
     },
     "execution_count": 43,
     "metadata": {},
     "output_type": "execute_result"
    }
   ],
   "source": [
    "x='10.6'\n",
    "y=float(x)\n",
    "print(y)\n",
    "type(y)"
   ]
  },
  {
   "cell_type": "code",
   "execution_count": 44,
   "metadata": {},
   "outputs": [
    {
     "name": "stdout",
     "output_type": "stream",
     "text": [
      "10.0\n"
     ]
    },
    {
     "data": {
      "text/plain": [
       "float"
      ]
     },
     "execution_count": 44,
     "metadata": {},
     "output_type": "execute_result"
    }
   ],
   "source": [
    "x=10\n",
    "y=float(x)\n",
    "print(y)\n",
    "type(y)"
   ]
  },
  {
   "cell_type": "code",
   "execution_count": 45,
   "metadata": {},
   "outputs": [
    {
     "name": "stdout",
     "output_type": "stream",
     "text": [
      "(10+0j)\n"
     ]
    },
    {
     "data": {
      "text/plain": [
       "complex"
      ]
     },
     "execution_count": 45,
     "metadata": {},
     "output_type": "execute_result"
    }
   ],
   "source": [
    "x=10\n",
    "y=complex(x)\n",
    "print(y)\n",
    "type(y)"
   ]
  },
  {
   "cell_type": "code",
   "execution_count": 46,
   "metadata": {},
   "outputs": [
    {
     "name": "stdout",
     "output_type": "stream",
     "text": [
      "10.5\n"
     ]
    },
    {
     "data": {
      "text/plain": [
       "str"
      ]
     },
     "execution_count": 46,
     "metadata": {},
     "output_type": "execute_result"
    }
   ],
   "source": [
    "x=10.5\n",
    "y=str(x)\n",
    "print(y)\n",
    "type(y)"
   ]
  },
  {
   "cell_type": "code",
   "execution_count": 47,
   "metadata": {},
   "outputs": [
    {
     "name": "stdout",
     "output_type": "stream",
     "text": [
      "10\n"
     ]
    },
    {
     "data": {
      "text/plain": [
       "int"
      ]
     },
     "execution_count": 47,
     "metadata": {},
     "output_type": "execute_result"
    }
   ],
   "source": [
    "x=10.5\n",
    "y=int(x)\n",
    "print(y)\n",
    "type(y)"
   ]
  },
  {
   "cell_type": "code",
   "execution_count": 48,
   "metadata": {},
   "outputs": [
    {
     "name": "stdout",
     "output_type": "stream",
     "text": [
      "(10.5+0j)\n"
     ]
    },
    {
     "data": {
      "text/plain": [
       "complex"
      ]
     },
     "execution_count": 48,
     "metadata": {},
     "output_type": "execute_result"
    }
   ],
   "source": [
    "x=10.5\n",
    "y=complex(x)\n",
    "print(y)\n",
    "type(y)"
   ]
  },
  {
   "cell_type": "code",
   "execution_count": 49,
   "metadata": {},
   "outputs": [
    {
     "name": "stdout",
     "output_type": "stream",
     "text": [
      "(10.5+1j)\n"
     ]
    },
    {
     "data": {
      "text/plain": [
       "complex"
      ]
     },
     "execution_count": 49,
     "metadata": {},
     "output_type": "execute_result"
    }
   ],
   "source": [
    "y=complex(10.5,1)\n",
    "print(y)\n",
    "type(y)"
   ]
  },
  {
   "cell_type": "code",
   "execution_count": 50,
   "metadata": {},
   "outputs": [
    {
     "name": "stdout",
     "output_type": "stream",
     "text": [
      "(10.5, 2)\n"
     ]
    },
    {
     "data": {
      "text/plain": [
       "tuple"
      ]
     },
     "execution_count": 50,
     "metadata": {},
     "output_type": "execute_result"
    }
   ],
   "source": [
    "x=[10.5,2]\n",
    "y=tuple(x)\n",
    "print(y)\n",
    "type(y)"
   ]
  },
  {
   "cell_type": "code",
   "execution_count": 51,
   "metadata": {},
   "outputs": [
    {
     "name": "stdout",
     "output_type": "stream",
     "text": [
      "[10.5, 2]\n"
     ]
    },
    {
     "data": {
      "text/plain": [
       "list"
      ]
     },
     "execution_count": 51,
     "metadata": {},
     "output_type": "execute_result"
    }
   ],
   "source": [
    "x=(10.5,2)\n",
    "y=list(x)\n",
    "print(y)\n",
    "type(y)"
   ]
  },
  {
   "cell_type": "markdown",
   "metadata": {},
   "source": [
    "### Logical Operations (Comparisons)"
   ]
  },
  {
   "cell_type": "markdown",
   "metadata": {},
   "source": [
    "All these are Boolean operators, i.e., they are only evaluated as True or False:\n",
    "\n",
    "\"==\" is equal to <br/>\n",
    "\"!=\" is not equal to (i.e., different than) <br/>\n",
    "\">\" is greater than <br/>\n",
    "\">=\" is greater than or equal to <br/>\n",
    "\"<\" is less than <br/>\n",
    "\"<=\" is less than or equal to "
   ]
  },
  {
   "cell_type": "code",
   "execution_count": 52,
   "metadata": {},
   "outputs": [],
   "source": [
    "a = 2\n",
    "b = 1.77\n",
    "c = '2'"
   ]
  },
  {
   "cell_type": "code",
   "execution_count": 53,
   "metadata": {},
   "outputs": [
    {
     "name": "stdout",
     "output_type": "stream",
     "text": [
      "False\n"
     ]
    }
   ],
   "source": [
    "print(a < b)"
   ]
  },
  {
   "cell_type": "code",
   "execution_count": 54,
   "metadata": {},
   "outputs": [
    {
     "name": "stdout",
     "output_type": "stream",
     "text": [
      "True\n"
     ]
    }
   ],
   "source": [
    "print(a >= b)"
   ]
  },
  {
   "cell_type": "code",
   "execution_count": 55,
   "metadata": {},
   "outputs": [
    {
     "name": "stdout",
     "output_type": "stream",
     "text": [
      "False\n"
     ]
    }
   ],
   "source": [
    "print(a == c)"
   ]
  },
  {
   "cell_type": "code",
   "execution_count": 56,
   "metadata": {},
   "outputs": [
    {
     "name": "stdout",
     "output_type": "stream",
     "text": [
      "True\n"
     ]
    }
   ],
   "source": [
    "print(a != c)"
   ]
  },
  {
   "cell_type": "code",
   "execution_count": 57,
   "metadata": {},
   "outputs": [
    {
     "name": "stdout",
     "output_type": "stream",
     "text": [
      "True\n"
     ]
    }
   ],
   "source": [
    "print((a > b) and (a != c))"
   ]
  },
  {
   "cell_type": "code",
   "execution_count": 58,
   "metadata": {},
   "outputs": [
    {
     "name": "stdout",
     "output_type": "stream",
     "text": [
      "True\n"
     ]
    }
   ],
   "source": [
    "print((a > b) or (a == b))"
   ]
  },
  {
   "cell_type": "code",
   "execution_count": 59,
   "metadata": {},
   "outputs": [
    {
     "name": "stdout",
     "output_type": "stream",
     "text": [
      "False\n"
     ]
    }
   ],
   "source": [
    "print((a <= b) or (a == b))"
   ]
  },
  {
   "cell_type": "markdown",
   "metadata": {},
   "source": [
    "### Built-In Mathematical Functions"
   ]
  },
  {
   "cell_type": "markdown",
   "metadata": {},
   "source": [
    "**abs(number)** is the absolute value of the number<br/>\n",
    "**max(sequence)** is the maximum element of a sequence (list or tuple)<br/>\n",
    "**min(sequence)** is the minimum element of a sequence (list or tuple)<br/>\n",
    "**round(float,n)** rounds the float to (integer) n decimal places"
   ]
  },
  {
   "cell_type": "code",
   "execution_count": 60,
   "metadata": {},
   "outputs": [
    {
     "data": {
      "text/plain": [
       "2"
      ]
     },
     "execution_count": 60,
     "metadata": {},
     "output_type": "execute_result"
    }
   ],
   "source": [
    "abs(-2)"
   ]
  },
  {
   "cell_type": "code",
   "execution_count": 61,
   "metadata": {},
   "outputs": [
    {
     "data": {
      "text/plain": [
       "10.688779163215974"
      ]
     },
     "execution_count": 61,
     "metadata": {},
     "output_type": "execute_result"
    }
   ],
   "source": [
    "abs(10.5+2j)"
   ]
  },
  {
   "cell_type": "code",
   "execution_count": 62,
   "metadata": {},
   "outputs": [
    {
     "data": {
      "text/plain": [
       "2.0001"
      ]
     },
     "execution_count": 62,
     "metadata": {},
     "output_type": "execute_result"
    }
   ],
   "source": [
    "max([1,2,2.0001])"
   ]
  },
  {
   "cell_type": "code",
   "execution_count": 63,
   "metadata": {},
   "outputs": [
    {
     "data": {
      "text/plain": [
       "7.897"
      ]
     },
     "execution_count": 63,
     "metadata": {},
     "output_type": "execute_result"
    }
   ],
   "source": [
    "round(7.89654023,3)"
   ]
  },
  {
   "cell_type": "code",
   "execution_count": 64,
   "metadata": {},
   "outputs": [
    {
     "data": {
      "text/plain": [
       "3.142"
      ]
     },
     "execution_count": 64,
     "metadata": {},
     "output_type": "execute_result"
    }
   ],
   "source": [
    "import math\n",
    "pi=math.pi\n",
    "round(pi,3)"
   ]
  },
  {
   "cell_type": "markdown",
   "metadata": {},
   "source": [
    "### Reading Input"
   ]
  },
  {
   "cell_type": "markdown",
   "metadata": {},
   "source": [
    "The intrinsic function for accepting user input is ￼*input(prompt )*. Notice that the input string should be quotted if it is a string, unless it is a number. Notice also that there should be a space at the end of the command!\n",
    "\n",
    "It displays the prompt and then reads a line of input that is converted to a string. To convert the string into a numerical value use the function *eval(string)*."
   ]
  },
  {
   "cell_type": "code",
   "execution_count": 65,
   "metadata": {},
   "outputs": [
    {
     "name": "stdout",
     "output_type": "stream",
     "text": [
      "Input a: 'cat'\n",
      "'cat' <class 'str'>\n",
      "cat <class 'str'>\n"
     ]
    }
   ],
   "source": [
    "a = input('Input a: ') # Input the string of a word (here 'cat')\n",
    "print(a, type(a))           \n",
    "b = eval(a)\n",
    "print(b,type(b)) "
   ]
  },
  {
   "cell_type": "code",
   "execution_count": 66,
   "metadata": {},
   "outputs": [
    {
     "name": "stdout",
     "output_type": "stream",
     "text": [
      "Input a: 3.14\n",
      "3.14 <class 'str'>\n",
      "3.14 <class 'float'>\n"
     ]
    }
   ],
   "source": [
    "a = input('Input a: ') # Input the string of a number (here 3.14)\n",
    "print(a, type(a))           \n",
    "b = eval(a)\n",
    "print(b,type(b)) "
   ]
  },
  {
   "cell_type": "code",
   "execution_count": 67,
   "metadata": {},
   "outputs": [
    {
     "name": "stdout",
     "output_type": "stream",
     "text": [
      "Input a: int(3.14)\n",
      "int(3.14) <class 'str'>\n",
      "3 <class 'int'>\n"
     ]
    }
   ],
   "source": [
    "a = input('Input a: ') # Input the string of a number (here int(3.14))\n",
    "print(a, type(a))           \n",
    "b = eval(a)\n",
    "print(b,type(b)) "
   ]
  },
  {
   "cell_type": "markdown",
   "metadata": {},
   "source": [
    "### Conditional loops (if)"
   ]
  },
  {
   "cell_type": "code",
   "execution_count": 68,
   "metadata": {},
   "outputs": [
    {
     "name": "stdout",
     "output_type": "stream",
     "text": [
      "0 is even\n",
      "1 is odd\n",
      "2 is even\n",
      "3 is odd\n",
      "4 is even\n",
      "5 is odd\n",
      "6 is even\n",
      "7 is odd\n",
      "8 is even\n",
      "9 is odd\n"
     ]
    }
   ],
   "source": [
    "for i in range(0,10):\n",
    "    if i%2 == 0:\n",
    "        print(i,'is even')\n",
    "    else:\n",
    "        print(i,'is odd')"
   ]
  },
  {
   "cell_type": "code",
   "execution_count": 69,
   "metadata": {},
   "outputs": [
    {
     "name": "stdout",
     "output_type": "stream",
     "text": [
      "-4 is even and negative\n",
      "-3 is odd and negative\n",
      "-2 is even and negative\n",
      "-1 is odd and negative\n",
      "0 is even and zero\n",
      "1 is odd and positive\n",
      "2 is even and positive\n",
      "3 is odd and positive\n"
     ]
    }
   ],
   "source": [
    "for i in range(-4,4):\n",
    "    if i%2 == 0 and i < 0:\n",
    "        print(i,'is even and negative')\n",
    "    elif i%2 == 0 and i > 0:\n",
    "        print(i,'is even and positive')\n",
    "    elif i%2 != 0 and i < 0:\n",
    "        print(i,'is odd and negative')\n",
    "    elif i%2 != 0 and i > 0:\n",
    "        print(i,'is odd and positive')\n",
    "    else:\n",
    "        print(i,'is even and zero')"
   ]
  },
  {
   "cell_type": "code",
   "execution_count": 70,
   "metadata": {},
   "outputs": [
    {
     "name": "stdout",
     "output_type": "stream",
     "text": [
      "Type an from 1 to 10: 5\n",
      "You failed to guess the right number in your effort 1/4\n",
      "Type an from 1 to 10: 2\n",
      "You failed to guess the right number in your effort 2/4\n",
      "Type an from 1 to 10: 7\n",
      "Type an from 1 to 10: 4\n",
      "You failed to guess the right number 10 in your 4 efforts.\n"
     ]
    }
   ],
   "source": [
    "# The \"break\" statement terminates the loop:\n",
    "\n",
    "import random\n",
    "x=random.randint(1,10)\n",
    "# guess = eval(input('Type an from 1 to 10: '))\n",
    "for i in range(0,4):\n",
    "    guess = eval(input('Type an from 1 to 10: '))\n",
    "    if guess != x and i < 2:\n",
    "        print('You failed to guess the right number in your effort %i/4' %(i+1))\n",
    "    if guess != x and i == 3:\n",
    "        print('You failed to guess the right number %i in your 4 efforts.' %x)\n",
    "    if guess == x:\n",
    "        print(\"Congrats, you've guessed the right number %i in your effort %i/4!\" %(x,i+1))\n",
    "        break"
   ]
  },
  {
   "cell_type": "markdown",
   "metadata": {},
   "source": [
    "### For loops (iterations)"
   ]
  },
  {
   "cell_type": "code",
   "execution_count": 71,
   "metadata": {},
   "outputs": [
    {
     "data": {
      "text/plain": [
       "[1, 4, 7]"
      ]
     },
     "execution_count": 71,
     "metadata": {},
     "output_type": "execute_result"
    }
   ],
   "source": [
    "a = []\n",
    "for i in range(1,10,3):\n",
    "    a.append(i)\n",
    "a"
   ]
  },
  {
   "cell_type": "code",
   "execution_count": 72,
   "metadata": {},
   "outputs": [
    {
     "name": "stdout",
     "output_type": "stream",
     "text": [
      "Jack has position 1 in the list\n",
      "Jill has position 2 in the list\n",
      "Tim has position 3 in the list\n",
      "Dave has position 4 in the list\n"
     ]
    }
   ],
   "source": [
    "persons = ['Jack', 'Jill', 'Tim', 'Dave']\n",
    "for i in range(len(persons)):\n",
    "    print(persons[i],'has position',i+1,'in the list')"
   ]
  },
  {
   "cell_type": "code",
   "execution_count": 73,
   "metadata": {},
   "outputs": [
    {
     "name": "stdout",
     "output_type": "stream",
     "text": [
      "[3, 6, 9, 12, 15, 18]\n"
     ]
    }
   ],
   "source": [
    "# The \"continue\" statement allows us to skip the remaining part of a for loop (iteration):\n",
    "\n",
    "x = []\n",
    "for i in range(1,20):\n",
    "    if i%3 != 0: \n",
    "        continue\n",
    "    x.append(i)\n",
    "print(x)"
   ]
  },
  {
   "cell_type": "markdown",
   "metadata": {},
   "source": [
    "### While loops"
   ]
  },
  {
   "cell_type": "code",
   "execution_count": 74,
   "metadata": {},
   "outputs": [
    {
     "name": "stdout",
     "output_type": "stream",
     "text": [
      "[1.0, 0.5, 0.3333333333333333, 0.25, 0.2, 0.16666666666666666, 0.14285714285714285, 0.125, 0.1111111111111111, 0.1]\n"
     ]
    }
   ],
   "source": [
    "m = 10\n",
    "n = 1\n",
    "a = []\n",
    "while n <= m:\n",
    "    a.append(1/n)\n",
    "    n = n + 1\n",
    "print(a)"
   ]
  },
  {
   "cell_type": "markdown",
   "metadata": {},
   "source": [
    "### Error Control"
   ]
  },
  {
   "cell_type": "code",
   "execution_count": 75,
   "metadata": {},
   "outputs": [],
   "source": [
    "# # If you were running the following command:\n",
    "\n",
    "# c=1/0\n",
    "\n",
    "# # you would receive the following error:\n",
    "\n",
    "# ZeroDivisionError                         Traceback (most recent call last)\n",
    "# <ipython-input-80-e3767d549fe3> in <module>\n",
    "#       1 # If you were running the following command:\n",
    "#       2 \n",
    "# ----> 3 c=1/0\n",
    "\n",
    "# ZeroDivisionError: division by zero"
   ]
  },
  {
   "cell_type": "code",
   "execution_count": 76,
   "metadata": {},
   "outputs": [
    {
     "name": "stdout",
     "output_type": "stream",
     "text": [
      "Divizion by zero is undefined!\n"
     ]
    }
   ],
   "source": [
    "# To avoid this error:\n",
    "\n",
    "try:\n",
    "    c = 1/0\n",
    "except ZeroDivisionError:\n",
    "    print('Divizion by zero is undefined!')"
   ]
  },
  {
   "cell_type": "markdown",
   "metadata": {},
   "source": [
    "### (Python) Functions"
   ]
  },
  {
   "cell_type": "markdown",
   "metadata": {},
   "source": [
    "#### Functions without arguments"
   ]
  },
  {
   "cell_type": "code",
   "execution_count": 77,
   "metadata": {},
   "outputs": [
    {
     "data": {
      "text/plain": [
       "[0, 1, 4, 9, 16, 25, 36, 49, 64, 81]"
      ]
     },
     "execution_count": 77,
     "metadata": {},
     "output_type": "execute_result"
    }
   ],
   "source": [
    "def squares(numeric_seqence):\n",
    "    a=[]\n",
    "    for i in numeric_seqence:\n",
    "        a.append(i**2)\n",
    "    return a\n",
    "\n",
    "squares(range(10))"
   ]
  },
  {
   "cell_type": "markdown",
   "metadata": {},
   "source": [
    "#### Functions with arguments"
   ]
  },
  {
   "cell_type": "code",
   "execution_count": 78,
   "metadata": {},
   "outputs": [
    {
     "data": {
      "text/plain": [
       "75.0000010000278"
      ]
     },
     "execution_count": 78,
     "metadata": {},
     "output_type": "execute_result"
    }
   ],
   "source": [
    "def cubicf(x):\n",
    "    return x**3\n",
    "\n",
    "def derivativecf(f,x,h):\n",
    "    df=(f(x+h)-f(x-h))/(2.0*h)\n",
    "    return df\n",
    "\n",
    "derivativecf(cubicf,x=5,h=0.001)"
   ]
  },
  {
   "cell_type": "code",
   "execution_count": 79,
   "metadata": {},
   "outputs": [
    {
     "data": {
      "text/plain": [
       "0.7999999995730867"
      ]
     },
     "execution_count": 79,
     "metadata": {},
     "output_type": "execute_result"
    }
   ],
   "source": [
    "from math import atan\n",
    "derivativecf(atan,x=0.5,h=0.0001)"
   ]
  },
  {
   "cell_type": "markdown",
   "metadata": {},
   "source": [
    "#### Functions with default arguments"
   ]
  },
  {
   "cell_type": "code",
   "execution_count": 80,
   "metadata": {},
   "outputs": [
    {
     "data": {
      "text/plain": [
       "-0.6400000029938013"
      ]
     },
     "execution_count": 80,
     "metadata": {},
     "output_type": "execute_result"
    }
   ],
   "source": [
    "def secondderivativecf(f,x,h=0.0001):\n",
    "    ddf=(f(x+h)-2.0*f(x)+f(x-h))/h**2\n",
    "    return ddf\n",
    "\n",
    "secondderivativecf(atan,x=0.5)"
   ]
  },
  {
   "cell_type": "markdown",
   "metadata": {},
   "source": [
    "### Lambda Statement"
   ]
  },
  {
   "cell_type": "markdown",
   "metadata": {},
   "source": [
    "If the function has the form of an expression, it can be defined with the lambda statement<br/>\n",
    "<center>func name = lambda param1, param2,...: expression</center>"
   ]
  },
  {
   "cell_type": "code",
   "execution_count": 81,
   "metadata": {},
   "outputs": [
    {
     "data": {
      "text/plain": [
       "25"
      ]
     },
     "execution_count": 81,
     "metadata": {},
     "output_type": "execute_result"
    }
   ],
   "source": [
    "c = lambda x,y : x**2 + y**2\n",
    "c(3,4)"
   ]
  },
  {
   "cell_type": "code",
   "execution_count": 82,
   "metadata": {},
   "outputs": [
    {
     "data": {
      "text/plain": [
       "75.0000010000278"
      ]
     },
     "execution_count": 82,
     "metadata": {},
     "output_type": "execute_result"
    }
   ],
   "source": [
    "d = lambda x,h : (cubicf(x+h)-cubicf(x-h))/(2.0*h)\n",
    "d(5,0.001)"
   ]
  },
  {
   "cell_type": "code",
   "execution_count": 83,
   "metadata": {},
   "outputs": [
    {
     "data": {
      "text/plain": [
       "0.7999999995730867"
      ]
     },
     "execution_count": 83,
     "metadata": {},
     "output_type": "execute_result"
    }
   ],
   "source": [
    "da = lambda x,h : (atan(x+h)-atan(x-h))/(2.0*h)\n",
    "da(0.5,0.0001)"
   ]
  },
  {
   "cell_type": "code",
   "execution_count": 84,
   "metadata": {},
   "outputs": [
    {
     "data": {
      "text/plain": [
       "-0.6400000029938013"
      ]
     },
     "execution_count": 84,
     "metadata": {},
     "output_type": "execute_result"
    }
   ],
   "source": [
    "dda = lambda x,h : (atan(x+h)-2.0*atan(x)+atan(x-h))/h**2\n",
    "dda(0.5,0.0001)"
   ]
  },
  {
   "cell_type": "markdown",
   "metadata": {},
   "source": [
    "### The math (and cmath) Module"
   ]
  },
  {
   "cell_type": "code",
   "execution_count": 85,
   "metadata": {},
   "outputs": [
    {
     "name": "stdout",
     "output_type": "stream",
     "text": [
      "['acos', 'acosh', 'asin', 'asinh', 'atan', 'atan2', 'atanh', 'ceil', 'copysign', 'cos', 'cosh', 'degrees', 'e', 'erf', 'erfc', 'exp', 'expm1', 'fabs', 'factorial', 'floor', 'fmod', 'frexp', 'fsum', 'gamma', 'gcd', 'hypot', 'inf', 'isclose', 'isfinite', 'isinf', 'isnan', 'ldexp', 'lgamma', 'log', 'log10', 'log1p', 'log2', 'modf', 'nan', 'pi', 'pow', 'radians', 'remainder', 'sin', 'sinh', 'sqrt', 'tan', 'tanh', 'tau', 'trunc']\n"
     ]
    }
   ],
   "source": [
    "import math\n",
    "print([x for x in dir(math) if \"__\" not in x])"
   ]
  },
  {
   "cell_type": "code",
   "execution_count": 86,
   "metadata": {},
   "outputs": [
    {
     "name": "stdout",
     "output_type": "stream",
     "text": [
      "log of 2.5 = 0.9162907318741551\n",
      "approximate log of 2.5 = 0.92\n",
      "square root of 2.5 = 1.5811388300841898\n",
      "approximate square root of 2.5 = 1.581\n",
      "sine of 2.5 = 0.5984721441039564\n",
      "approximate sine of 2.5 = 0.5985\n",
      "ceiling of 2.5 = 3\n"
     ]
    }
   ],
   "source": [
    "x=2.5\n",
    "print(\"log of\",x,'=',math.log(x))\n",
    "print(\"approximate log of\",x,'=','{:.2f}'.format(math.log(x)))\n",
    "print(\"square root of\",x,'=',math.sqrt(x))\n",
    "print(\"approximate square root of\",x,'=','{:.3f}'.format(math.sqrt(x)))\n",
    "print(\"sine of\",x,'=',math.sin(x))\n",
    "print(\"approximate sine of\",x,'=','{:.4f}'.format(math.sin(x)))\n",
    "print(\"ceiling of\",x,'=',math.ceil(x))"
   ]
  },
  {
   "cell_type": "markdown",
   "metadata": {},
   "source": [
    "## The numpy Module"
   ]
  },
  {
   "cell_type": "markdown",
   "metadata": {},
   "source": [
    "The complete set of functions in numpy is far too long to be printed in its entirety. The following list is limited to the most commonly used functions:\n",
    "\n",
    "[’complex’, ’float’, ’abs’, ’append’, arccos’,\n",
    "’arccosh’, ’arcsin’, ’arcsinh’, ’arctan’, ’arctan2’,\n",
    "’arctanh’, ’argmax’, ’argmin’, ’cos’, ’cosh’, ’diag’,\n",
    "’diagonal’, ’dot’, ’e’, ’exp’, ’floor’, ’identity’,\n",
    "’inner, ’inv’, ’log’, ’log10’, ’max’, ’min’,\n",
    "’ones’, ’outer’, ’pi’, ’prod’ ’sin’, ’sinh’, ’size’,\n",
    "’solve’, ’sqrt’, ’sum’, ’tan’, ’tanh’, ’trace’,\n",
    "’transpose’, ’vectorize’,’zeros’]"
   ]
  },
  {
   "cell_type": "code",
   "execution_count": 87,
   "metadata": {},
   "outputs": [],
   "source": [
    "import numpy as np"
   ]
  },
  {
   "cell_type": "markdown",
   "metadata": {},
   "source": [
    "#### Creating Arrays"
   ]
  },
  {
   "cell_type": "code",
   "execution_count": 88,
   "metadata": {},
   "outputs": [
    {
     "name": "stdout",
     "output_type": "stream",
     "text": [
      "[[ 2. -1.]\n",
      " [-1.  3.]]\n"
     ]
    }
   ],
   "source": [
    "# From lists\n",
    "\n",
    "a = [[2.0, -1.0],[-1.0, 3.0]]\n",
    "b = np.array(a)\n",
    "print(b)"
   ]
  },
  {
   "cell_type": "code",
   "execution_count": 89,
   "metadata": {},
   "outputs": [
    {
     "name": "stdout",
     "output_type": "stream",
     "text": [
      "[[ 2 -1]\n",
      " [-1  3]]\n"
     ]
    }
   ],
   "source": [
    "# Integer values\n",
    "\n",
    "a = [[2.0, -1.0],[-1.0, 3.0]]\n",
    "bi = np.array(a,int)\n",
    "print(bi)"
   ]
  },
  {
   "cell_type": "code",
   "execution_count": 90,
   "metadata": {},
   "outputs": [
    {
     "name": "stdout",
     "output_type": "stream",
     "text": [
      "[[0. 0.]\n",
      " [0. 0.]\n",
      " [0. 0.]]\n"
     ]
    }
   ],
   "source": [
    "# Array of zeroes (of size 3x2)\n",
    "\n",
    "zero_array = np.zeros((3,2))\n",
    "print(zero_array)"
   ]
  },
  {
   "cell_type": "code",
   "execution_count": 91,
   "metadata": {},
   "outputs": [
    {
     "name": "stdout",
     "output_type": "stream",
     "text": [
      "[[1. 1. 1. 1.]\n",
      " [1. 1. 1. 1.]\n",
      " [1. 1. 1. 1.]]\n"
     ]
    }
   ],
   "source": [
    "# Array of ones (of size 3x4)\n",
    "\n",
    "ones_array = np.ones((3,4))\n",
    "print(ones_array)"
   ]
  },
  {
   "cell_type": "markdown",
   "metadata": {},
   "source": [
    "#### arange"
   ]
  },
  {
   "cell_type": "code",
   "execution_count": 92,
   "metadata": {},
   "outputs": [
    {
     "name": "stdout",
     "output_type": "stream",
     "text": [
      "[0 1 2 3 4]\n",
      "[2 4 6 8]\n",
      "[2. 4. 6. 8.]\n",
      "[0. 0. 0. 0. 0.]\n",
      "[0 0 0 0 0]\n",
      "[1. 1. 1.]\n",
      "[1 1 1]\n",
      "[[1. 0. 0. 0.]\n",
      " [0. 1. 0. 0.]\n",
      " [0. 0. 1. 0.]\n",
      " [0. 0. 0. 1.]]\n"
     ]
    }
   ],
   "source": [
    "print(np.arange(5))\n",
    "print(np.arange(2,10,2))\n",
    "print(np.arange(2.0,10.0,2.0))\n",
    "print(np.zeros(5))\n",
    "print(np.zeros((5),int))\n",
    "print(np.ones(3))\n",
    "print(np.ones((3),int))\n",
    "print(np.identity(4))"
   ]
  },
  {
   "cell_type": "markdown",
   "metadata": {},
   "source": [
    "#### Accessing and Changing Array Elements"
   ]
  },
  {
   "cell_type": "code",
   "execution_count": 93,
   "metadata": {},
   "outputs": [
    {
     "name": "stdout",
     "output_type": "stream",
     "text": [
      "[[0. 0. 0.]\n",
      " [0. 0. 0.]\n",
      " [0. 0. 0.]]\n"
     ]
    }
   ],
   "source": [
    "a = np.zeros((3,3))\n",
    "print(a)"
   ]
  },
  {
   "cell_type": "code",
   "execution_count": 94,
   "metadata": {},
   "outputs": [
    {
     "name": "stdout",
     "output_type": "stream",
     "text": [
      "[[ 1.  2.  3.]\n",
      " [ 0.  4.  0.]\n",
      " [ 0.  8. -3.]]\n"
     ]
    }
   ],
   "source": [
    "a[0] = [1, 2, 3]   # Change a row\n",
    "a[1,1] = 4         # Change an element\n",
    "a[2,1:] = [8,-3]   # Change part of a row\n",
    "print(a)"
   ]
  },
  {
   "cell_type": "markdown",
   "metadata": {},
   "source": [
    "#### Operations on Arrays"
   ]
  },
  {
   "cell_type": "code",
   "execution_count": 95,
   "metadata": {},
   "outputs": [
    {
     "name": "stdout",
     "output_type": "stream",
     "text": [
      "[[ 0.33333333  0.66666667  1.        ]\n",
      " [ 0.          1.33333333  0.        ]\n",
      " [ 0.          2.66666667 -1.        ]]\n"
     ]
    }
   ],
   "source": [
    "print(a/3)"
   ]
  },
  {
   "cell_type": "code",
   "execution_count": 96,
   "metadata": {},
   "outputs": [
    {
     "name": "stdout",
     "output_type": "stream",
     "text": [
      "[[-1.  0.  1.]\n",
      " [-2.  2. -2.]\n",
      " [-2.  6. -5.]]\n"
     ]
    }
   ],
   "source": [
    "print(a-2)"
   ]
  },
  {
   "cell_type": "code",
   "execution_count": 97,
   "metadata": {},
   "outputs": [
    {
     "name": "stdout",
     "output_type": "stream",
     "text": [
      "[[2.23606798 2.44948974 2.64575131]\n",
      " [2.         2.82842712 2.        ]\n",
      " [2.         3.46410162 1.        ]]\n"
     ]
    }
   ],
   "source": [
    "a=a+4\n",
    "print(np.sqrt(a))"
   ]
  },
  {
   "cell_type": "code",
   "execution_count": 98,
   "metadata": {},
   "outputs": [
    {
     "name": "stdout",
     "output_type": "stream",
     "text": [
      "[[ 0.28366219  0.96017029  0.75390225]\n",
      " [-0.65364362 -0.14550003 -0.65364362]\n",
      " [-0.65364362  0.84385396  0.54030231]]\n"
     ]
    }
   ],
   "source": [
    "print(np.cos(a))"
   ]
  },
  {
   "cell_type": "markdown",
   "metadata": {},
   "source": [
    "#### Array Operations"
   ]
  },
  {
   "cell_type": "code",
   "execution_count": 99,
   "metadata": {},
   "outputs": [
    {
     "name": "stdout",
     "output_type": "stream",
     "text": [
      "[[ 4. -2.  1.]\n",
      " [-2.  4. -2.]\n",
      " [ 1. -2.  3.]]\n"
     ]
    }
   ],
   "source": [
    "A = np.array([[4,-2,1],[-2,4,-2],[1,-2,3]],float)\n",
    "print(A)"
   ]
  },
  {
   "cell_type": "code",
   "execution_count": 100,
   "metadata": {},
   "outputs": [
    {
     "name": "stdout",
     "output_type": "stream",
     "text": [
      "[4. 4. 3.]\n"
     ]
    }
   ],
   "source": [
    "# Principal Diagonal\n",
    "\n",
    "print(np.diagonal(A))"
   ]
  },
  {
   "cell_type": "code",
   "execution_count": 101,
   "metadata": {},
   "outputs": [
    {
     "name": "stdout",
     "output_type": "stream",
     "text": [
      "[-2. -2.]\n"
     ]
    }
   ],
   "source": [
    "# First Lower Dubdiagonal\n",
    "\n",
    "print(np.diagonal(A,1))"
   ]
  },
  {
   "cell_type": "code",
   "execution_count": 102,
   "metadata": {},
   "outputs": [
    {
     "name": "stdout",
     "output_type": "stream",
     "text": [
      "[-2. -2.]\n"
     ]
    }
   ],
   "source": [
    "# First Upper Dubdiagonal\n",
    "\n",
    "print(np.diagonal(A,-1))"
   ]
  },
  {
   "cell_type": "code",
   "execution_count": 103,
   "metadata": {},
   "outputs": [
    {
     "name": "stdout",
     "output_type": "stream",
     "text": [
      "11.0\n"
     ]
    }
   ],
   "source": [
    "# Trace\n",
    "\n",
    "print(np.trace(A))"
   ]
  },
  {
   "cell_type": "code",
   "execution_count": 104,
   "metadata": {},
   "outputs": [
    {
     "name": "stdout",
     "output_type": "stream",
     "text": [
      "-2.0 4.0\n"
     ]
    }
   ],
   "source": [
    "# Minimum, maximum elements\n",
    "\n",
    "print(np.amin(A),np.amax(A))"
   ]
  },
  {
   "cell_type": "code",
   "execution_count": 105,
   "metadata": {},
   "outputs": [
    {
     "name": "stdout",
     "output_type": "stream",
     "text": [
      "[1 0 1] [0 1 2]\n"
     ]
    }
   ],
   "source": [
    "# Indices of max, min column elements\n",
    "\n",
    "print(np.argmin(A,axis=0),np.argmax(A,axis=0))"
   ]
  },
  {
   "cell_type": "code",
   "execution_count": 106,
   "metadata": {},
   "outputs": [
    {
     "name": "stdout",
     "output_type": "stream",
     "text": [
      "[1 0 1] [0 1 2]\n"
     ]
    }
   ],
   "source": [
    "# Indices of max, min row elements\n",
    "\n",
    "print(np.argmin(A,axis=1),np.argmax(A,axis=1))"
   ]
  },
  {
   "cell_type": "markdown",
   "metadata": {},
   "source": [
    "#### Inner product"
   ]
  },
  {
   "cell_type": "code",
   "execution_count": 107,
   "metadata": {},
   "outputs": [
    {
     "name": "stdout",
     "output_type": "stream",
     "text": [
      "A = \n",
      " [[1 2]\n",
      " [3 2]]\n",
      "B = \n",
      " [[1 1]\n",
      " [2 2]]\n",
      "x = [7 3]\n",
      "y = [2 1]\n"
     ]
    }
   ],
   "source": [
    "A = np.array([[1,2],[3,2]])\n",
    "B = np.array([[1,1],[2,2]])\n",
    "x = np.array([7,3])\n",
    "y = np.array([2,1])\n",
    "\n",
    "print('A = \\n',A)\n",
    "print('B = \\n',B)\n",
    "print('x =',x)\n",
    "print('y =',y)"
   ]
  },
  {
   "cell_type": "code",
   "execution_count": 108,
   "metadata": {},
   "outputs": [
    {
     "name": "stdout",
     "output_type": "stream",
     "text": [
      "inner product of A, B = \n",
      " [[ 3  6]\n",
      " [ 5 10]]\n",
      "inner product of x, A = \n",
      " [13 27]\n",
      "inner product of B, y = \n",
      " [3 6]\n",
      "inner product of x, y = \n",
      " 17\n",
      "inner product of x, y = 17\n"
     ]
    }
   ],
   "source": [
    "print(\"inner product of A, B = \\n\",np.inner(A,B))\n",
    "print(\"inner product of x, A = \\n\",np.inner(x,A))\n",
    "print(\"inner product of B, y = \\n\",np.inner(B,y))\n",
    "print(\"inner product of x, y = \\n\",np.inner(x,y))\n",
    "print(\"inner product of x, y =\",np.inner(x,y))"
   ]
  },
  {
   "cell_type": "markdown",
   "metadata": {},
   "source": [
    "#### Outer product"
   ]
  },
  {
   "cell_type": "code",
   "execution_count": 109,
   "metadata": {},
   "outputs": [
    {
     "name": "stdout",
     "output_type": "stream",
     "text": [
      "outer product of A, B = \n",
      " [[1 1 2 2]\n",
      " [2 2 4 4]\n",
      " [3 3 6 6]\n",
      " [2 2 4 4]]\n",
      "outer product of x, A = \n",
      " [[ 7 14 21 14]\n",
      " [ 3  6  9  6]]\n",
      "outer product of B, y = \n",
      " [[2 1]\n",
      " [2 1]\n",
      " [4 2]\n",
      " [4 2]]\n",
      "outer product of x, y = \n",
      " [[14  7]\n",
      " [ 6  3]]\n",
      "outer product of x, y = \n",
      " [[14  7]\n",
      " [ 6  3]]\n"
     ]
    }
   ],
   "source": [
    "print(\"outer product of A, B = \\n\",np.outer(A,B))\n",
    "print(\"outer product of x, A = \\n\",np.outer(x,A))\n",
    "print(\"outer product of B, y = \\n\",np.outer(B,y))\n",
    "print(\"outer product of x, y = \\n\",np.outer(x,y))\n",
    "print(\"outer product of x, y = \\n\",np.outer(x,y))"
   ]
  },
  {
   "cell_type": "markdown",
   "metadata": {},
   "source": [
    "#### Dot product "
   ]
  },
  {
   "cell_type": "code",
   "execution_count": 110,
   "metadata": {},
   "outputs": [
    {
     "name": "stdout",
     "output_type": "stream",
     "text": [
      "dot product of A, B = \n",
      " [[5 5]\n",
      " [7 7]]\n",
      "dot product of x, A = \n",
      " [16 20]\n",
      "dot product of B, y = \n",
      " [3 6]\n",
      "dot product of x, y = \n",
      " 17\n"
     ]
    }
   ],
   "source": [
    "\n",
    "print(\"dot product of A, B = \\n\",np.dot(A,B))\n",
    "print(\"dot product of x, A = \\n\",np.dot(x,A))\n",
    "print(\"dot product of B, y = \\n\",np.dot(B,y))\n",
    "print(\"dot product of x, y = \\n\",np.dot(x,y))"
   ]
  },
  {
   "cell_type": "markdown",
   "metadata": {},
   "source": [
    "#### Transposing and Inversing Arrays and Solving Equations"
   ]
  },
  {
   "cell_type": "code",
   "execution_count": 111,
   "metadata": {},
   "outputs": [],
   "source": [
    "A = np.array([[ 4.0, -2.0,  1.0], \\\n",
    "              [-2.0,  4.0, -2.0], \\\n",
    "              [ 1.0, -2.0,  3.0]])\n",
    "b = np.array([1.0, 4.0, 2.0])"
   ]
  },
  {
   "cell_type": "code",
   "execution_count": 112,
   "metadata": {},
   "outputs": [],
   "source": [
    "from numpy.linalg import inv,solve"
   ]
  },
  {
   "cell_type": "code",
   "execution_count": 113,
   "metadata": {},
   "outputs": [
    {
     "name": "stdout",
     "output_type": "stream",
     "text": [
      "[[ 4. -2.  1.]\n",
      " [-2.  4. -2.]\n",
      " [ 1. -2.  3.]]\n"
     ]
    }
   ],
   "source": [
    "print(np.transpose(A))"
   ]
  },
  {
   "cell_type": "code",
   "execution_count": 114,
   "metadata": {},
   "outputs": [
    {
     "name": "stdout",
     "output_type": "stream",
     "text": [
      "[[0.33333333 0.16666667 0.        ]\n",
      " [0.16666667 0.45833333 0.25      ]\n",
      " [0.         0.25       0.5       ]]\n"
     ]
    }
   ],
   "source": [
    "print(inv(A))"
   ]
  },
  {
   "cell_type": "code",
   "execution_count": 115,
   "metadata": {},
   "outputs": [
    {
     "name": "stdout",
     "output_type": "stream",
     "text": [
      "[1.  2.5 2. ]\n"
     ]
    }
   ],
   "source": [
    "print(solve(A,b))"
   ]
  },
  {
   "cell_type": "markdown",
   "metadata": {},
   "source": [
    "#### Vectorizing Mathematical Functions"
   ]
  },
  {
   "cell_type": "markdown",
   "metadata": {},
   "source": [
    "Say we want to compute the following sum:\n",
    "\n",
    "$$s = \\sum_{i=0}^{100} \\sqrt{\\frac{i\\pi}{100}} \\sin \\frac{i\\pi}{100}$$"
   ]
  },
  {
   "cell_type": "code",
   "execution_count": 116,
   "metadata": {},
   "outputs": [
    {
     "name": "stdout",
     "output_type": "stream",
     "text": [
      "77.51389798916522\n"
     ]
    }
   ],
   "source": [
    "# Direct way\n",
    "\n",
    "x = 0.0; s = 0.0\n",
    "for i in range(101):\n",
    "    s = s + math.sqrt(x)*math.sin(x)\n",
    "    x = x + 0.01*math.pi\n",
    "print(s)"
   ]
  },
  {
   "cell_type": "code",
   "execution_count": 117,
   "metadata": {},
   "outputs": [
    {
     "name": "stdout",
     "output_type": "stream",
     "text": [
      "77.5138979891651\n"
     ]
    }
   ],
   "source": [
    "# Vectorized version\n",
    "\n",
    "x = np.arange(0.0, 1.001*np.pi, 0.01*np.pi)\n",
    "print(sum(np.sqrt(x)*np.sin(x)))"
   ]
  },
  {
   "cell_type": "markdown",
   "metadata": {},
   "source": [
    "#### Deep Copying Arrays"
   ]
  },
  {
   "cell_type": "markdown",
   "metadata": {},
   "source": [
    "To make an independent copy of a numpy array a, use the copy method: b = a.copy()"
   ]
  },
  {
   "cell_type": "code",
   "execution_count": 118,
   "metadata": {},
   "outputs": [
    {
     "name": "stdout",
     "output_type": "stream",
     "text": [
      "[[ 4. -2.  1.]\n",
      " [-2.  4. -2.]\n",
      " [ 1. -2.  3.]]\n"
     ]
    }
   ],
   "source": [
    "A = np.array([[ 4.0, -2.0,  1.0], \\\n",
    "              [-2.0,  4.0, -2.0], \\\n",
    "              [ 1.0, -2.0,  3.0]])\n",
    "AA = A.copy()\n",
    "print(A)"
   ]
  },
  {
   "cell_type": "code",
   "execution_count": 119,
   "metadata": {},
   "outputs": [
    {
     "name": "stdout",
     "output_type": "stream",
     "text": [
      "[[104.  98. 101.]\n",
      " [ 98. 104.  98.]\n",
      " [101.  98. 103.]]\n"
     ]
    }
   ],
   "source": [
    "A=A+100\n",
    "print(A)"
   ]
  },
  {
   "cell_type": "code",
   "execution_count": 120,
   "metadata": {},
   "outputs": [
    {
     "name": "stdout",
     "output_type": "stream",
     "text": [
      "[[ 4. -2.  1.]\n",
      " [-2.  4. -2.]\n",
      " [ 1. -2.  3.]]\n"
     ]
    }
   ],
   "source": [
    "print(AA)"
   ]
  },
  {
   "cell_type": "markdown",
   "metadata": {},
   "source": [
    "### Plotting with matplotlib"
   ]
  },
  {
   "cell_type": "code",
   "execution_count": 121,
   "metadata": {},
   "outputs": [],
   "source": [
    "import matplotlib.pyplot as plt"
   ]
  },
  {
   "cell_type": "code",
   "execution_count": 122,
   "metadata": {},
   "outputs": [
    {
     "data": {
      "image/png": "[encoded data removed]",
      "text/plain": [
       "<Figure size 504x504 with 2 Axes>"
      ]
     },
     "metadata": {
      "needs_background": "light"
     },
     "output_type": "display_data"
    }
   ],
   "source": [
    "x = np.arange(0.0,6.2,0.2)\n",
    "\n",
    "fig=plt.figure(figsize=(7,7))\n",
    "\n",
    "plt.subplot(2,1,1)\n",
    "plt.plot(x,np.sin(x));\n",
    "plt.xlabel('x');\n",
    "plt.ylabel('sin(x)');\n",
    "\n",
    "plt.subplot(2,1,2)\n",
    "plt.plot(x,np.cos(x));\n",
    "plt.xlabel('x');\n",
    "plt.ylabel('cos(x)');"
   ]
  },
  {
   "cell_type": "code",
   "execution_count": 123,
   "metadata": {},
   "outputs": [
    {
     "data": {
      "image/png": "[encoded data removed]",
      "text/plain": [
       "<Figure size 504x360 with 1 Axes>"
      ]
     },
     "metadata": {
      "needs_background": "light"
     },
     "output_type": "display_data"
    }
   ],
   "source": [
    "fig=plt.figure(figsize=(7,5))\n",
    "\n",
    "plt.plot(x,np.sin(x),x,np.cos(x));\n",
    "plt.xlabel('x');\n",
    "plt.ylabel('y');\n",
    "plt.legend(('sine','cosine'),loc = 0);"
   ]
  }
 ],
 "metadata": {
  "kernelspec": {
   "display_name": "Python 3",
   "language": "python",
   "name": "python3"
  },
  "language_info": {
   "codemirror_mode": {
    "name": "ipython",
    "version": 3
   },
   "file_extension": ".py",
   "mimetype": "text/x-python",
   "name": "python",
   "nbconvert_exporter": "python",
   "pygments_lexer": "ipython3",
   "version": "3.7.6"
  }
 },
 "nbformat": 4,
 "nbformat_minor": 2
}
