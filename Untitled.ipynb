{
 "cells": [
  {
   "cell_type": "code",
   "execution_count": 1,
   "id": "minor-static",
   "metadata": {},
   "outputs": [],
   "source": [
    "import pandas as pd\n",
    "import pickle\n",
    "import networkx as nx\n",
    "from networkx.algorithms import bipartite\n",
    "import matplotlib.pyplot as plt\n",
    "import matplotlib.colors\n",
    "from collections import Counter, defaultdict\n",
    "from itertools import combinations, permutations, product\n",
    "import random, math\n",
    "import numpy as np\n",
    "import scipy as sp\n",
    "# import grinpy as gp\n",
    "import pygraphviz, graphviz\n",
    "from networkx.drawing.nx_agraph import graphviz_layout\n",
    "from networkx.drawing.nx_agraph import to_agraph\n",
    "from pylab import hist\n",
    "from IPython.core.display import Image, display"
   ]
  },
  {
   "cell_type": "code",
   "execution_count": 2,
   "id": "scientific-secretary",
   "metadata": {},
   "outputs": [],
   "source": [
    "def neighbors(G,kind1): \n",
    "#     kind1=0: undirected graph or directed graph ignoring edge direction\n",
    "#     kind1=10: directed graph with inward neighbors\n",
    "#     kind1=11: directed graph with outward neighbors\n",
    "    if kind1==0:\n",
    "        if G.is_directed()==False:\n",
    "            neigh_d={n:sorted(G.neighbors(n)) for n in G.nodes()}\n",
    "            return neigh_d\n",
    "        else:\n",
    "            neigh_d={}\n",
    "            for n in G.nodes():\n",
    "                successors=sorted(G.successors(n))\n",
    "                predecessors=sorted(G.predecessors(n))\n",
    "                neighs=sorted(set(successors+predecessors))\n",
    "                neigh_d[n]=neighs\n",
    "            return neigh_d\n",
    "    if kind1==10:\n",
    "        neigh_d={}\n",
    "        for n in G.nodes():\n",
    "            predecessors=sorted(G.predecessors(n))\n",
    "            neigh_d[n]=predecessors\n",
    "#             if len(predecessors)>0:\n",
    "#                 neigh_d[n]=predecessors\n",
    "#             else:\n",
    "#                 neigh_d[n]=[]\n",
    "        return neigh_d\n",
    "    if kind1==11:\n",
    "        neigh_d={}\n",
    "        for n in G.nodes():\n",
    "            successors=sorted(G.successors(n))\n",
    "            neigh_d[n]=successors\n",
    "#             if len(successors)>0:\n",
    "#                 neigh_d[n]=successors\n",
    "#             else:\n",
    "#                 neigh_d[n]=[]\n",
    "        return neigh_d\n",
    "    \n",
    "    \n",
    "def infn(G,n,kind1,kind2):\n",
    "#     kind2=0: undirected graph or directed graph ignoring edge direction\n",
    "#     kind2=10: directed graph with inward neighbors and any type of neighbors of neighbors\n",
    "#     kind2=100: directed graph with inward neighbors and inward neighbors of neighbors\n",
    "#     kind2=11: directed graph with outward neighbors and any type of neighbors of neighbors\n",
    "#     kind2=111: directed graph with outward neighbors and outward neighbors of neighbors\n",
    "    if kind2==0:\n",
    "        t=[]\n",
    "        qn=[n]+neighbors(G,kind1=0)[n]\n",
    "#         if len(list(neighbors(G,kind1=0)[n]))>0:\n",
    "        for m in list(neighbors(G,kind1=0)[n]):\n",
    "            qm=[m]+neighbors(G,kind1=0)[m]\n",
    "            if set(qm).issubset(set(qn)):\n",
    "                t.append(m)\n",
    "        t=sorted(set(t))\n",
    "        return t\n",
    "    if kind2==10:\n",
    "        t=[]\n",
    "        qn=[n]+neighbors(G,kind1=10)[n]\n",
    "#         if len(list(neighbors(G,kind1=0)[n]))>0:\n",
    "        for m in list(neighbors(G,kind1=0)[n]):\n",
    "            qm=[m]+neighbors(G,kind1=0)[m]\n",
    "            if set(qm).issubset(set(qn)):\n",
    "                t.append(m)\n",
    "        t=sorted(set(t))\n",
    "        return t\n",
    "    if kind2==100:\n",
    "        t=[]\n",
    "        qn=[n]+neighbors(G,kind1=10)[n]\n",
    "#         if len(list(neighbors(G,kind1=0)[n]))>0:\n",
    "        for m in list(neighbors(G,kind1=10)[n]):\n",
    "            qm=[m]+neighbors(G,kind1=10)[m]\n",
    "            if set(qm).issubset(set(qn)):\n",
    "                t.append(m)\n",
    "        t=sorted(set(t))\n",
    "        return t\n",
    "    if kind2==11:\n",
    "        t=[]\n",
    "        qn=[n]+neighbors(G,kind1=11)[n]\n",
    "#         if len(list(neighbors(G,kind1=0)[n]))>0:\n",
    "        for m in list(neighbors(G,kind1=0)[n]):\n",
    "            qm=[m]+neighbors(G,kind1=0)[m]\n",
    "            if set(qm).issubset(set(qn)):\n",
    "                t.append(m)\n",
    "        t=sorted(set(t))\n",
    "        return t\n",
    "    if kind2==111:\n",
    "        t=[]\n",
    "        qn=[n]+neighbors(G,kind1=11)[n]\n",
    "#         if len(list(neighbors(G,kind1=0)[n]))>0:\n",
    "        for m in list(neighbors(G,kind1=11)[n]):\n",
    "            qm=[m]+neighbors(G,kind1=11)[m]\n",
    "            if set(qm).issubset(set(qn)):\n",
    "                t.append(m)\n",
    "        t=sorted(set(t))\n",
    "        return t\n",
    "    \n",
    "def InFlow(G,kind1,kind2):\n",
    "    di0={n:infn(G,n,kind1,kind2) for n in G.nodes()}\n",
    "    di1={k:len(v) for k,v in di0.items()}\n",
    "    di2={k:len(v)/(len(neighbors(G,kind1)[k])+1) for k,v in di0.items()}\n",
    "    return di0,di1,di2\n",
    "\n",
    "def outfn(G,n,kind1,kind2):\n",
    "#     kind2=0: undirected graph or directed graph ignoring edge direction\n",
    "#     kind2=10: directed graph with inward neighbors and any type of neighbors of neighbors\n",
    "#     kind2=100: directed graph with inward neighbors and inward neighbors of neighbors\n",
    "#     kind2=11: directed graph with outward neighbors and any type of neighbors of neighbors\n",
    "#     kind2=111: directed graph with outward neighbors and outward neighbors of neighbors\n",
    "    if kind2==0:\n",
    "        t=[]\n",
    "        qn=[n]+neighbors(G,kind1=0)[n]\n",
    "        for m in list(neighbors(G,kind1=0)[n]):\n",
    "            qm=[m]+neighbors(G,kind1=0)[m]\n",
    "            if len(set(qm)-set(qn))>0:\n",
    "                t.append(m)\n",
    "        t=sorted(set(t))\n",
    "        return t\n",
    "    if kind2==10:\n",
    "        t=[]\n",
    "        qn=[n]+neighbors(G,kind1=10)[n]\n",
    "        for m in list(neighbors(G,kind1=0)[n]):\n",
    "            qm=[m]+neighbors(G,kind1=0)[m]\n",
    "            if len(set(qm)-set(qn))>0:\n",
    "                t.append(m)\n",
    "        t=sorted(set(t))\n",
    "        return t\n",
    "    if kind2==100:\n",
    "        t=[]\n",
    "        qn=[n]+neighbors(G,kind1=10)[n]\n",
    "        for m in list(neighbors(G,kind1=10)[n]):\n",
    "            qm=[m]+neighbors(G,kind1=10)[m]\n",
    "            if len(set(qm)-set(qn))>0:\n",
    "                t.append(m)\n",
    "        t=sorted(set(t))\n",
    "        return t\n",
    "    if kind2==11:\n",
    "        t=[]\n",
    "        qn=[n]+neighbors(G,kind1=11)[n]\n",
    "        for m in list(neighbors(G,kind1=0)[n]):\n",
    "            qm=[m]+neighbors(G,kind1=0)[m]\n",
    "            if len(set(qm)-set(qn))>0:\n",
    "                t.append(m)\n",
    "        t=sorted(set(t))\n",
    "        return t\n",
    "    if kind2==111:\n",
    "        t=[]\n",
    "        qn=[n]+neighbors(G,kind1=11)[n]\n",
    "        for m in list(neighbors(G,kind1=11)[n]):\n",
    "            qm=[m]+neighbors(G,kind1=11)[m]\n",
    "            if len(set(qm)-set(qn))>0:\n",
    "                t.append(m)\n",
    "        t=sorted(set(t))\n",
    "        return t\n",
    "\n",
    "def OutFlow(G,kind1,kind2):\n",
    "    di0={n:outfn(G,n,kind1,kind2) for n in G.nodes()}\n",
    "    di1={k:len(v) for k,v in di0.items()}\n",
    "    di2={k:len(v)/(len(neighbors(G,kind1)[k])+1) for k,v in di0.items()}\n",
    "    return di0,di1,di2\n",
    "\n",
    "def ola(adi0,adi1,adi2,ddi0,ddi1,ddi2):\n",
    "    d1={k:(v,ddi0[k]) for k,v in adi0.items()}\n",
    "    d2={k:(v,ddi1[k]) for k,v in adi1.items()}\n",
    "    d3={k:(v,ddi2[k]) for k,v in adi2.items()}\n",
    "    return d1,d2,d3\n",
    "\n",
    "def reciprocity(G):\n",
    "    if G.is_directed()==True:\n",
    "        di0={}\n",
    "        di1={}\n",
    "        for n in G.nodes():\n",
    "            t=[]\n",
    "            for e in G.edges(): \n",
    "                if e[::-1] in G.edges():\n",
    "                    if e[0]==n:\n",
    "                        t.append(e[1])\n",
    "                    if e[1]==n:\n",
    "                        t.append(e[0])\n",
    "            t=sorted(set(t))\n",
    "            di0[n]=t\n",
    "        for n in G.nodes():\n",
    "            s=0\n",
    "            for e in G.edges(): \n",
    "                if e[::-1] in G.edges():\n",
    "                    if n in e:\n",
    "                        s+=1\n",
    "            di1[n]=int(s/2)\n",
    "        return di0,di1\n",
    "    else:\n",
    "        return {n:[] for n in G.nodes()},{n:0 for n in G.nodes()}\n",
    "    \n",
    "def nacg(G,adi0):\n",
    "    t={}\n",
    "    \n",
    "    for k,v in adi0.items():\n",
    "        if len(v)>0:\n",
    "            s=[]\n",
    "            v1=[k]+v\n",
    "            v1=sorted(v1)\n",
    "            ks=\"_\".join([str(z) for z in v1])\n",
    "            t[ks]=v1\n",
    "        if k in ee:\n",
    "            t[str(k)]=[k]\n",
    "    return t\n",
    "\n",
    "def meds(G,adi0):\n",
    "    eds=[]\n",
    "    for j in list(product(list(nacg(G,adi0).values()),repeat=2)):\n",
    "        sj0=\"_\".join([str(z) for z in j[0]])\n",
    "        sj1=\"_\".join([str(z) for z in j[1]])\n",
    "        for x in j[0]:\n",
    "            for y in j[1]:\n",
    "                for e in G.edges():\n",
    "                    if e[0]==x and e[1]==y: \n",
    "                        eds.append(((sj0,sj1)))\n",
    "    teds=[]\n",
    "    for k,v in dict(Counter(eds)).items():\n",
    "        teds.append((k[0],k[1],v))\n",
    "    return teds"
   ]
  },
  {
   "cell_type": "code",
   "execution_count": 3,
   "id": "impossible-jewel",
   "metadata": {},
   "outputs": [],
   "source": [
    "def connected_component_subgraphs(G):\n",
    "    for c in nx.connected_components(G):\n",
    "        yield G.subgraph(c)\n",
    "\n",
    "def g_diagnostics(G,st):\n",
    "    \n",
    "    if str(G)==\"Erdos-Renyi random graph\":\n",
    "        print(\"The %s has %i nodes, p=%.3f and %i edges\\n\" %(str(G),len(G.nodes()),p,len(G.edges())))\n",
    "    elif str(G)==\"Strogatz-Watts graph\":\n",
    "        print(\"The %s has %i nodes, k=%i, p=%.2f and %i edges\\n\" %(str(G),len(G.nodes()),k,p,len(G.edges())))\n",
    "    elif str(G)==\"Barabasi-Albert graph\":\n",
    "        print(\"The %s has %i nodes, m=%i and %i edges\\n\" %(str(G),len(G.nodes()),m,len(G.edges())))\n",
    "    elif str(G)==\"Random regular graph\":\n",
    "        print(\"The %s has %i nodes, d=%i and %i edges\\n\" %(str(G),len(G.nodes()),d,len(G.edges())))\n",
    "    elif str(G)==\"Bipartite random graph\":\n",
    "        X=[z for z in G.nodes() if z in range(n)]\n",
    "        Y=[z for z in G.nodes() if z in range(n,n+m)]\n",
    "        print(\"The %s has %i nodes (%i nodes in the first partition, %i nodes in the second partition), p=%.2f and %i edges\\n\" %(str(G),len(G.nodes()),len(X),len(Y),p,len(G.edges())))\n",
    "    elif str(G)==\"Balanced tree\":\n",
    "        print(\"The %s has %i nodes, r=%i, h=%i and %i edges\" %(str(G),len(G.nodes()),r,h,len(G.edges())))\n",
    "    elif str(G)==\"Random power law tree\":\n",
    "        print(\"The %s has %i nodes and %i edges\" %(str(G),len(G.nodes()),len(G.edges())))\n",
    "    elif str(G)==\"Erdos-Renyi random weighted graph\":\n",
    "        print(\"The %s has %i nodes, p=%.3f and %i edges\\n\" %(str(G),len(G.nodes()),p,len(G.edges())))\n",
    "    elif str(G)==\"Gnm random weighted graph\":\n",
    "        print(\"The %s has %i nodes and %i edges\\n\" %(str(G),len(G.nodes()),len(G.edges())))\n",
    "    elif str(G)==\"Gnm random multigraph\":\n",
    "        print(\"The %s has %i nodes, p=%.3f and %i edges\\n\" %(str(G),len(G.nodes()),p,len(G.edges())))\n",
    "    elif str(G)==\"Gnm random multigraph\":\n",
    "        print(\"The %s has %i nodes and %i edges\\n\" %(str(G),len(G.nodes()),len(G.edges())))\n",
    "    else:\n",
    "        print(\"The %s has %i nodes and %i edges\" %(st,len(G.nodes()), len(G.edges())),'\\n')\n",
    "    if G.is_directed()==True:\n",
    "        print(\"The %s is a directed graph\" %st)\n",
    "    else:\n",
    "        print(\"The %s is an undirected graph\" %st) \n",
    "    if G.is_multigraph()==True:\n",
    "        print(\"The %s is a multigraph\" %st)\n",
    "    else:\n",
    "        print(\"The %s is a simple graph\" %st)\n",
    "    if nx.is_weighted(G)==True:\n",
    "        print(\"The %s is a weighted graph\" %st)\n",
    "    else:\n",
    "        print(\"The %s is an unweighted graph\" %st) \n",
    "    if nx.is_bipartite(G)==True:\n",
    "        print(\"The %s is a bipartite graph\" %st)\n",
    "    else:\n",
    "        print(\"The %s is not a bipartite graph\" %st)    \n",
    "    if nx.is_tree(G)==True:\n",
    "        print(\"The %s is a tree \\n\" %st)\n",
    "    else:\n",
    "        print(\"The %s is not a tree \\n\" %st )   \n",
    "    if G.is_directed()==False:\n",
    "        if nx.is_connected(G)==True:\n",
    "            print(\"The %s is a connected graph\" %st)\n",
    "        else:\n",
    "            print(\"The %s is a disconnected graph and it has %i connected components\" %(st,nx.number_connected_components(G)))   \n",
    "            giant = max(nx.connected_components(G), key=len)\n",
    "            Glcc=G.subgraph(giant)\n",
    "            print(\"The largest connected component of this graph has %i nodes and %i edges\" %(len(Glcc.nodes()),len(Glcc.edges())))\n",
    "    else:\n",
    "        if nx.is_strongly_connected(G)==True:\n",
    "            print(\"The %s is a strongly connected graph\" %st)\n",
    "        else:\n",
    "            print(\"The %s is not strongly connected and it has %i strongly connected components\" %(st,nx.number_strongly_connected_components(G)))\n",
    "            giant = max(nx.strongly_connected_components(G), key=len)\n",
    "            Glcc=G.subgraph(giant)\n",
    "            print(\"The largest strongly connected component of this graph has %i nodes and %i edges\" %(len(Glcc.nodes()),len(Glcc.edges())))\n",
    "            scc=sorted(list(nx.strongly_connected_components(G)),key=len,reverse=True)\n",
    "            ll=range(nx.number_strongly_connected_components(G))\n",
    "            t_d={}\n",
    "            for k in ll[::-1]:\n",
    "                t=[]\n",
    "                te=[]\n",
    "                for w in scc:\n",
    "                    if len(w)==k:\n",
    "                        g=G.subgraph(w)\n",
    "                        t.append(g)  #(w)\n",
    "                        te.append(len(g.edges()))\n",
    "                if len(t)>0:\n",
    "                    t_d[k]=(len(t),te)\n",
    "            for k,v in t_d.items():\n",
    "                if k>2 and v[0]<21:\n",
    "                    print(\"%i strongly connected components with %i nodes (%s edges)\" %(v[0],k,v[1]))\n",
    "                elif k>2 and v[0]>20:\n",
    "                    print(\"%i strongly connected components with %i nodes (%s edges)\" %(v[0],k,set(v[1])))\n",
    "                elif k==2:\n",
    "                    print(\"%i strongly connected components with %i nodes (1 edge)\" %(v[0],k))\n",
    "                else:\n",
    "                    print(\"%i strongly connected components with %i nodes (0 edges)\" %(v[0],k))\n",
    "        print(\" \")\n",
    "        if nx.is_weakly_connected(G)==True:\n",
    "            print(\"The %s is a weakly connected graph\" %st)\n",
    "        else:\n",
    "            print(\"The %s is not weakly connected and it has %i weakly connected components\" %(st,nx.number_weakly_connected_components(G)))\n",
    "            giant = max(nx.weakly_connected_components(G), key=len)\n",
    "            Glcc=G.subgraph(giant)\n",
    "            print(\"The largest weakly connected component of this graph has %i nodes and %i edges\" %(len(Glcc.nodes()),len(Glcc.edges())))\n",
    "            wcc=sorted(list(nx.weakly_connected_components(G)),key=len,reverse=True)\n",
    "            ll=range(nx.number_weakly_connected_components(G))\n",
    "            t_d={}\n",
    "            for k in ll[::-1]:\n",
    "                t=[]\n",
    "                te=[]\n",
    "                for w in wcc:\n",
    "                    if len(w)==k:\n",
    "                        g=G.subgraph(w)\n",
    "                        t.append(g)  #(w)\n",
    "                        te.append(len(g.edges()))\n",
    "                if len(t)>0:\n",
    "                    t_d[k]=(len(t),te)\n",
    "            for k,v in t_d.items():\n",
    "                if k>2 and v[0]<21:\n",
    "                    print(\"%i weakly connected components with %i nodes (%i edges)\" %(v[0],k,v[1][0]))\n",
    "                elif k>2 and v[0]>20:\n",
    "                    print(\"%i weakly connected components with %i nodes (%s edges)\" %(v[0],k,set(v[1])))\n",
    "                elif k==2:\n",
    "                    print(\"%i weakly connected components with %i nodes (1 edge)\" %(v[0],k))\n",
    "                else:\n",
    "                    print(\"%i weakly connected components with %i nodes (0 edges)\" %(v[0],k))\n",
    "    print(\" \")\n",
    "    if len(list(nx.isolates(G)))>0:\n",
    "        print(\"The %s has %i isolates \\n\" %(st,len(list(nx.isolates(G)))))\n",
    "    else:\n",
    "        print(\"The %s has no isolates \\n\" %st)\n",
    "\n",
    "    print(\"The density of the %s is %.5f\" %(st,nx.density(G)))  \n",
    "    try:\n",
    "        print(\"The transitivity of the %s is %.3f\" %(st,nx.transitivity(G)) )\n",
    "    except Exception as e: \n",
    "        print(\"Transitivity not computable: \"+str(e))\n",
    "    if G.is_directed()==True:\n",
    "        print(\"The reciprocity of the %s is %.3f\" %(st,nx.reciprocity(G)))\n",
    "    if G.is_directed()==False:\n",
    "        try:\n",
    "            print(\"The average clustering of the %s is %.3f\" %(st,nx.algorithms.cluster.average_clustering(G)))\n",
    "        except Exception as e: \n",
    "            print(\"Average clustering not computable: \"+str(e))\n",
    "        if nx.is_connected(G)==True:\n",
    "            print(\"The average shortest path length of the %s is %.3f\" %(st,nx.algorithms.shortest_paths.generic.average_shortest_path_length(G)))\n",
    "                          \n",
    "def g_diameter(G,st):    \n",
    "    try:\n",
    "        diameter=nx.diameter(G)\n",
    "        print(\"The diameter of the %s is %i\" %(st,diameter))\n",
    "    except Exception as e: \n",
    "        print(\"Diameter not computable: \"+str(e))"
   ]
  },
  {
   "cell_type": "code",
   "execution_count": 4,
   "id": "applicable-steel",
   "metadata": {},
   "outputs": [
    {
     "data": {
      "text/html": [
       "<img src=\"Whiteboard[1]-01.png\"/>"
      ],
      "text/plain": [
       "<IPython.core.display.Image object>"
      ]
     },
     "execution_count": 4,
     "metadata": {},
     "output_type": "execute_result"
    }
   ],
   "source": [
    "# ![title](\"Whiteboard[1]-01.png\")\n",
    "Image(url= \"Whiteboard[1]-01.png\")"
   ]
  },
  {
   "cell_type": "code",
   "execution_count": 5,
   "id": "cultural-martin",
   "metadata": {},
   "outputs": [
    {
     "name": "stdout",
     "output_type": "stream",
     "text": [
      "13377\n",
      "['REFERRAL_CODE', 'Broker', 'REFERRAL_AGE', 'REFERRAL_SEX_1_MALE', 'REFEREE_CODE', 'Brokers', 'REFEREE_AGE', 'REFEREE_SEX_MALE_1', 'REFEREE_CONFIRMATION_MONTH', 'REFEREE_CONFIRMATION_DAY']\n"
     ]
    },
    {
     "data": {
      "text/html": [
       "<div>\n",
       "<style scoped>\n",
       "    .dataframe tbody tr th:only-of-type {\n",
       "        vertical-align: middle;\n",
       "    }\n",
       "\n",
       "    .dataframe tbody tr th {\n",
       "        vertical-align: top;\n",
       "    }\n",
       "\n",
       "    .dataframe thead th {\n",
       "        text-align: right;\n",
       "    }\n",
       "</style>\n",
       "<table border=\"1\" class=\"dataframe\">\n",
       "  <thead>\n",
       "    <tr style=\"text-align: right;\">\n",
       "      <th></th>\n",
       "      <th>REFERRAL_CODE</th>\n",
       "      <th>Broker</th>\n",
       "      <th>REFERRAL_AGE</th>\n",
       "      <th>REFERRAL_SEX_1_MALE</th>\n",
       "      <th>REFEREE_CODE</th>\n",
       "      <th>Brokers</th>\n",
       "      <th>REFEREE_AGE</th>\n",
       "      <th>REFEREE_SEX_MALE_1</th>\n",
       "      <th>REFEREE_CONFIRMATION_MONTH</th>\n",
       "      <th>REFEREE_CONFIRMATION_DAY</th>\n",
       "    </tr>\n",
       "    <tr>\n",
       "      <th>NR</th>\n",
       "      <th></th>\n",
       "      <th></th>\n",
       "      <th></th>\n",
       "      <th></th>\n",
       "      <th></th>\n",
       "      <th></th>\n",
       "      <th></th>\n",
       "      <th></th>\n",
       "      <th></th>\n",
       "      <th></th>\n",
       "    </tr>\n",
       "  </thead>\n",
       "  <tbody>\n",
       "    <tr>\n",
       "      <th>1</th>\n",
       "      <td>1S179373</td>\n",
       "      <td>NaN</td>\n",
       "      <td>63.0</td>\n",
       "      <td>NaN</td>\n",
       "      <td>179373</td>\n",
       "      <td>NaN</td>\n",
       "      <td>65.0</td>\n",
       "      <td>1</td>\n",
       "      <td>OCTOBER</td>\n",
       "      <td>2020-10-16</td>\n",
       "    </tr>\n",
       "    <tr>\n",
       "      <th>2</th>\n",
       "      <td>235990</td>\n",
       "      <td>NaN</td>\n",
       "      <td>32.0</td>\n",
       "      <td>2.0</td>\n",
       "      <td>146179</td>\n",
       "      <td>NaN</td>\n",
       "      <td>40.0</td>\n",
       "      <td>1</td>\n",
       "      <td>OCTOBER</td>\n",
       "      <td>2020-10-07</td>\n",
       "    </tr>\n",
       "    <tr>\n",
       "      <th>3</th>\n",
       "      <td>3S146179</td>\n",
       "      <td>NaN</td>\n",
       "      <td>3.0</td>\n",
       "      <td>NaN</td>\n",
       "      <td>146179</td>\n",
       "      <td>NaN</td>\n",
       "      <td>40.0</td>\n",
       "      <td>1</td>\n",
       "      <td>OCTOBER</td>\n",
       "      <td>2020-10-07</td>\n",
       "    </tr>\n",
       "    <tr>\n",
       "      <th>4</th>\n",
       "      <td>4S146179</td>\n",
       "      <td>NaN</td>\n",
       "      <td>63.0</td>\n",
       "      <td>NaN</td>\n",
       "      <td>146179</td>\n",
       "      <td>NaN</td>\n",
       "      <td>40.0</td>\n",
       "      <td>1</td>\n",
       "      <td>OCTOBER</td>\n",
       "      <td>2020-10-07</td>\n",
       "    </tr>\n",
       "    <tr>\n",
       "      <th>5</th>\n",
       "      <td>5S146179</td>\n",
       "      <td>NaN</td>\n",
       "      <td>61.0</td>\n",
       "      <td>NaN</td>\n",
       "      <td>146179</td>\n",
       "      <td>NaN</td>\n",
       "      <td>40.0</td>\n",
       "      <td>1</td>\n",
       "      <td>OCTOBER</td>\n",
       "      <td>2020-10-07</td>\n",
       "    </tr>\n",
       "    <tr>\n",
       "      <th>...</th>\n",
       "      <td>...</td>\n",
       "      <td>...</td>\n",
       "      <td>...</td>\n",
       "      <td>...</td>\n",
       "      <td>...</td>\n",
       "      <td>...</td>\n",
       "      <td>...</td>\n",
       "      <td>...</td>\n",
       "      <td>...</td>\n",
       "      <td>...</td>\n",
       "    </tr>\n",
       "    <tr>\n",
       "      <th>14590</th>\n",
       "      <td>14590S146986</td>\n",
       "      <td>NaN</td>\n",
       "      <td>33.0</td>\n",
       "      <td>NaN</td>\n",
       "      <td>146986</td>\n",
       "      <td>NaN</td>\n",
       "      <td>38.0</td>\n",
       "      <td>1</td>\n",
       "      <td>OCTOBER</td>\n",
       "      <td>2020-10-07</td>\n",
       "    </tr>\n",
       "    <tr>\n",
       "      <th>14591</th>\n",
       "      <td>14591S146986</td>\n",
       "      <td>NaN</td>\n",
       "      <td>6.0</td>\n",
       "      <td>NaN</td>\n",
       "      <td>146986</td>\n",
       "      <td>NaN</td>\n",
       "      <td>38.0</td>\n",
       "      <td>1</td>\n",
       "      <td>OCTOBER</td>\n",
       "      <td>2020-10-07</td>\n",
       "    </tr>\n",
       "    <tr>\n",
       "      <th>14595</th>\n",
       "      <td>14595S179121</td>\n",
       "      <td>NaN</td>\n",
       "      <td>51.0</td>\n",
       "      <td>NaN</td>\n",
       "      <td>179121</td>\n",
       "      <td>NaN</td>\n",
       "      <td>24.0</td>\n",
       "      <td>1</td>\n",
       "      <td>OCTOBER</td>\n",
       "      <td>2020-10-16</td>\n",
       "    </tr>\n",
       "    <tr>\n",
       "      <th>14596</th>\n",
       "      <td>14596S179121</td>\n",
       "      <td>NaN</td>\n",
       "      <td>73.0</td>\n",
       "      <td>NaN</td>\n",
       "      <td>179121</td>\n",
       "      <td>NaN</td>\n",
       "      <td>24.0</td>\n",
       "      <td>1</td>\n",
       "      <td>OCTOBER</td>\n",
       "      <td>2020-10-16</td>\n",
       "    </tr>\n",
       "    <tr>\n",
       "      <th>14597</th>\n",
       "      <td>14597S179121</td>\n",
       "      <td>NaN</td>\n",
       "      <td>15.0</td>\n",
       "      <td>NaN</td>\n",
       "      <td>179121</td>\n",
       "      <td>NaN</td>\n",
       "      <td>24.0</td>\n",
       "      <td>1</td>\n",
       "      <td>OCTOBER</td>\n",
       "      <td>2020-10-16</td>\n",
       "    </tr>\n",
       "  </tbody>\n",
       "</table>\n",
       "<p>13377 rows × 10 columns</p>\n",
       "</div>"
      ],
      "text/plain": [
       "      REFERRAL_CODE  Broker  REFERRAL_AGE  REFERRAL_SEX_1_MALE REFEREE_CODE  \\\n",
       "NR                                                                            \n",
       "1          1S179373     NaN          63.0                  NaN       179373   \n",
       "2            235990     NaN          32.0                  2.0       146179   \n",
       "3          3S146179     NaN           3.0                  NaN       146179   \n",
       "4          4S146179     NaN          63.0                  NaN       146179   \n",
       "5          5S146179     NaN          61.0                  NaN       146179   \n",
       "...             ...     ...           ...                  ...          ...   \n",
       "14590  14590S146986     NaN          33.0                  NaN       146986   \n",
       "14591  14591S146986     NaN           6.0                  NaN       146986   \n",
       "14595  14595S179121     NaN          51.0                  NaN       179121   \n",
       "14596  14596S179121     NaN          73.0                  NaN       179121   \n",
       "14597  14597S179121     NaN          15.0                  NaN       179121   \n",
       "\n",
       "       Brokers  REFEREE_AGE  REFEREE_SEX_MALE_1 REFEREE_CONFIRMATION_MONTH  \\\n",
       "NR                                                                           \n",
       "1          NaN         65.0                   1                    OCTOBER   \n",
       "2          NaN         40.0                   1                    OCTOBER   \n",
       "3          NaN         40.0                   1                    OCTOBER   \n",
       "4          NaN         40.0                   1                    OCTOBER   \n",
       "5          NaN         40.0                   1                    OCTOBER   \n",
       "...        ...          ...                 ...                        ...   \n",
       "14590      NaN         38.0                   1                    OCTOBER   \n",
       "14591      NaN         38.0                   1                    OCTOBER   \n",
       "14595      NaN         24.0                   1                    OCTOBER   \n",
       "14596      NaN         24.0                   1                    OCTOBER   \n",
       "14597      NaN         24.0                   1                    OCTOBER   \n",
       "\n",
       "      REFEREE_CONFIRMATION_DAY  \n",
       "NR                              \n",
       "1                   2020-10-16  \n",
       "2                   2020-10-07  \n",
       "3                   2020-10-07  \n",
       "4                   2020-10-07  \n",
       "5                   2020-10-07  \n",
       "...                        ...  \n",
       "14590               2020-10-07  \n",
       "14591               2020-10-07  \n",
       "14595               2020-10-16  \n",
       "14596               2020-10-16  \n",
       "14597               2020-10-16  \n",
       "\n",
       "[13377 rows x 10 columns]"
      ]
     },
     "execution_count": 5,
     "metadata": {},
     "output_type": "execute_result"
    }
   ],
   "source": [
    "dataset=pd.read_excel('relational_dataset.xlsx', index_col=0)\n",
    "dataset['REFERRAL_CODE'] = dataset['REFERRAL_CODE'].astype(str)\n",
    "dataset['REFEREE_CODE'] = dataset['REFEREE_CODE'].astype(str)\n",
    "print(len(dataset))\n",
    "print(list(dataset.columns))\n",
    "dataset"
   ]
  },
  {
   "cell_type": "code",
   "execution_count": 6,
   "id": "official-helena",
   "metadata": {},
   "outputs": [
    {
     "data": {
      "text/plain": [
       "Broker                      12881\n",
       "REFERRAL_AGE                   76\n",
       "REFERRAL_SEX_1_MALE         11566\n",
       "Brokers                     12520\n",
       "REFEREE_AGE                     3\n",
       "REFEREE_SEX_MALE_1              0\n",
       "REFEREE_CONFIRMATION_DAY        0\n",
       "dtype: int64"
      ]
     },
     "execution_count": 6,
     "metadata": {},
     "output_type": "execute_result"
    }
   ],
   "source": [
    "num_vars=dataset.columns[dataset.dtypes != 'object']\n",
    "dataset[num_vars].isnull().sum()"
   ]
  },
  {
   "cell_type": "code",
   "execution_count": 7,
   "id": "eligible-subscription",
   "metadata": {},
   "outputs": [
    {
     "name": "stdout",
     "output_type": "stream",
     "text": [
      "13377 13272 6895\n"
     ]
    }
   ],
   "source": [
    "print(len(dataset),len(dataset['REFERRAL_CODE'].unique()),len(dataset['REFEREE_CODE'].unique()))"
   ]
  },
  {
   "cell_type": "code",
   "execution_count": 8,
   "id": "consecutive-ecology",
   "metadata": {},
   "outputs": [
    {
     "name": "stdout",
     "output_type": "stream",
     "text": [
      "referrals 13377 13272\n",
      "referees 13377 6895\n"
     ]
    }
   ],
   "source": [
    "print(\"referrals\",len(dataset['REFERRAL_CODE'].tolist()),len(set(dataset['REFERRAL_CODE'].tolist())))\n",
    "print(\"referees\",len(dataset['REFEREE_CODE'].tolist()),len(set(dataset['REFEREE_CODE'].tolist())))"
   ]
  },
  {
   "cell_type": "code",
   "execution_count": 9,
   "id": "hollow-specific",
   "metadata": {},
   "outputs": [
    {
     "name": "stdout",
     "output_type": "stream",
     "text": [
      "44625\n",
      "['covid_patient_code', 'testing_date', 'confirmation_date', 'sex', 'age', 'sector']\n"
     ]
    },
    {
     "data": {
      "text/html": [
       "<div>\n",
       "<style scoped>\n",
       "    .dataframe tbody tr th:only-of-type {\n",
       "        vertical-align: middle;\n",
       "    }\n",
       "\n",
       "    .dataframe tbody tr th {\n",
       "        vertical-align: top;\n",
       "    }\n",
       "\n",
       "    .dataframe thead th {\n",
       "        text-align: right;\n",
       "    }\n",
       "</style>\n",
       "<table border=\"1\" class=\"dataframe\">\n",
       "  <thead>\n",
       "    <tr style=\"text-align: right;\">\n",
       "      <th></th>\n",
       "      <th>covid_patient_code</th>\n",
       "      <th>testing_date</th>\n",
       "      <th>confirmation_date</th>\n",
       "      <th>sex</th>\n",
       "      <th>age</th>\n",
       "      <th>sector</th>\n",
       "    </tr>\n",
       "    <tr>\n",
       "      <th>nr</th>\n",
       "      <th></th>\n",
       "      <th></th>\n",
       "      <th></th>\n",
       "      <th></th>\n",
       "      <th></th>\n",
       "      <th></th>\n",
       "    </tr>\n",
       "  </thead>\n",
       "  <tbody>\n",
       "    <tr>\n",
       "      <th>1</th>\n",
       "      <td>327931</td>\n",
       "      <td>2020-11-11</td>\n",
       "      <td>2020-11-11</td>\n",
       "      <td>male</td>\n",
       "      <td>43.0</td>\n",
       "      <td>SECTOR_3</td>\n",
       "    </tr>\n",
       "    <tr>\n",
       "      <th>2</th>\n",
       "      <td>327926</td>\n",
       "      <td>2020-11-11</td>\n",
       "      <td>2020-11-11</td>\n",
       "      <td>female</td>\n",
       "      <td>4.0</td>\n",
       "      <td>SECTOR_2</td>\n",
       "    </tr>\n",
       "    <tr>\n",
       "      <th>3</th>\n",
       "      <td>327925</td>\n",
       "      <td>2020-11-11</td>\n",
       "      <td>2020-11-11</td>\n",
       "      <td>male</td>\n",
       "      <td>62.0</td>\n",
       "      <td>SECTOR_2</td>\n",
       "    </tr>\n",
       "    <tr>\n",
       "      <th>4</th>\n",
       "      <td>327861</td>\n",
       "      <td>2020-11-11</td>\n",
       "      <td>2020-11-11</td>\n",
       "      <td>male</td>\n",
       "      <td>38.0</td>\n",
       "      <td>SECTOR_4</td>\n",
       "    </tr>\n",
       "    <tr>\n",
       "      <th>5</th>\n",
       "      <td>327835</td>\n",
       "      <td>2020-11-10</td>\n",
       "      <td>2020-11-11</td>\n",
       "      <td>female</td>\n",
       "      <td>52.0</td>\n",
       "      <td>SECTOR_6</td>\n",
       "    </tr>\n",
       "    <tr>\n",
       "      <th>...</th>\n",
       "      <td>...</td>\n",
       "      <td>...</td>\n",
       "      <td>...</td>\n",
       "      <td>...</td>\n",
       "      <td>...</td>\n",
       "      <td>...</td>\n",
       "    </tr>\n",
       "    <tr>\n",
       "      <th>46109</th>\n",
       "      <td>1156</td>\n",
       "      <td>2020-05-02</td>\n",
       "      <td>2020-05-03</td>\n",
       "      <td>male</td>\n",
       "      <td>44.0</td>\n",
       "      <td>BUCHAREST</td>\n",
       "    </tr>\n",
       "    <tr>\n",
       "      <th>46128</th>\n",
       "      <td>1022</td>\n",
       "      <td>2020-03-25</td>\n",
       "      <td>2020-03-26</td>\n",
       "      <td>male</td>\n",
       "      <td>42.0</td>\n",
       "      <td>BUCHAREST</td>\n",
       "    </tr>\n",
       "    <tr>\n",
       "      <th>46149</th>\n",
       "      <td>918</td>\n",
       "      <td>2020-03-25</td>\n",
       "      <td>2020-03-25</td>\n",
       "      <td>male</td>\n",
       "      <td>53.0</td>\n",
       "      <td>BUCHAREST</td>\n",
       "    </tr>\n",
       "    <tr>\n",
       "      <th>46183</th>\n",
       "      <td>825</td>\n",
       "      <td>2020-04-30</td>\n",
       "      <td>2020-05-01</td>\n",
       "      <td>male</td>\n",
       "      <td>64.0</td>\n",
       "      <td>BUCHAREST</td>\n",
       "    </tr>\n",
       "    <tr>\n",
       "      <th>46196</th>\n",
       "      <td>773</td>\n",
       "      <td>2020-03-23</td>\n",
       "      <td>2020-03-24</td>\n",
       "      <td>male</td>\n",
       "      <td>54.0</td>\n",
       "      <td>BUCHAREST</td>\n",
       "    </tr>\n",
       "  </tbody>\n",
       "</table>\n",
       "<p>44625 rows × 6 columns</p>\n",
       "</div>"
      ],
      "text/plain": [
       "      covid_patient_code testing_date confirmation_date     sex   age  \\\n",
       "nr                                                                      \n",
       "1                 327931   2020-11-11        2020-11-11    male  43.0   \n",
       "2                 327926   2020-11-11        2020-11-11  female   4.0   \n",
       "3                 327925   2020-11-11        2020-11-11    male  62.0   \n",
       "4                 327861   2020-11-11        2020-11-11    male  38.0   \n",
       "5                 327835   2020-11-10        2020-11-11  female  52.0   \n",
       "...                  ...          ...               ...     ...   ...   \n",
       "46109               1156   2020-05-02        2020-05-03    male  44.0   \n",
       "46128               1022   2020-03-25        2020-03-26    male  42.0   \n",
       "46149                918   2020-03-25        2020-03-25    male  53.0   \n",
       "46183                825   2020-04-30        2020-05-01    male  64.0   \n",
       "46196                773   2020-03-23        2020-03-24    male  54.0   \n",
       "\n",
       "          sector  \n",
       "nr                \n",
       "1       SECTOR_3  \n",
       "2       SECTOR_2  \n",
       "3       SECTOR_2  \n",
       "4       SECTOR_4  \n",
       "5       SECTOR_6  \n",
       "...          ...  \n",
       "46109  BUCHAREST  \n",
       "46128  BUCHAREST  \n",
       "46149  BUCHAREST  \n",
       "46183  BUCHAREST  \n",
       "46196  BUCHAREST  \n",
       "\n",
       "[44625 rows x 6 columns]"
      ]
     },
     "execution_count": 9,
     "metadata": {},
     "output_type": "execute_result"
    }
   ],
   "source": [
    "attribute_dataset=pd.read_excel('attribute_dataset.xlsx', index_col=0)\n",
    "attribute_dataset=attribute_dataset.dropna()\n",
    "attribute_dataset['covid_patient_code'] = attribute_dataset['covid_patient_code'].astype(int)\n",
    "attribute_dataset['covid_patient_code'] = attribute_dataset['covid_patient_code'].astype(str)\n",
    "print(len(attribute_dataset))\n",
    "print(list(attribute_dataset.columns))\n",
    "attribute_dataset"
   ]
  },
  {
   "cell_type": "code",
   "execution_count": 10,
   "id": "perceived-nepal",
   "metadata": {},
   "outputs": [
    {
     "data": {
      "text/plain": [
       "['BUCHAREST',\n",
       " 'SECTOR_1',\n",
       " 'SECTOR_2',\n",
       " 'SECTOR_3',\n",
       " 'SECTOR_4',\n",
       " 'SECTOR_5',\n",
       " 'SECTOR_6']"
      ]
     },
     "execution_count": 10,
     "metadata": {},
     "output_type": "execute_result"
    }
   ],
   "source": [
    "sorted(attribute_dataset.sector.unique())"
   ]
  },
  {
   "cell_type": "code",
   "execution_count": 11,
   "id": "subjective-steps",
   "metadata": {},
   "outputs": [
    {
     "data": {
      "text/plain": [
       "6644"
      ]
     },
     "execution_count": 11,
     "metadata": {},
     "output_type": "execute_result"
    }
   ],
   "source": [
    "len(attribute_dataset[attribute_dataset.sector==\"BUCHAREST\"])"
   ]
  },
  {
   "cell_type": "code",
   "execution_count": 12,
   "id": "stunning-steering",
   "metadata": {},
   "outputs": [
    {
     "data": {
      "text/plain": [
       "5538"
      ]
     },
     "execution_count": 12,
     "metadata": {},
     "output_type": "execute_result"
    }
   ],
   "source": [
    "len(attribute_dataset[attribute_dataset.sector==\"SECTOR_1\"])"
   ]
  },
  {
   "cell_type": "code",
   "execution_count": 13,
   "id": "accompanied-royalty",
   "metadata": {},
   "outputs": [
    {
     "data": {
      "text/plain": [
       "6899"
      ]
     },
     "execution_count": 13,
     "metadata": {},
     "output_type": "execute_result"
    }
   ],
   "source": [
    "len(attribute_dataset[attribute_dataset.sector==\"SECTOR_2\"])"
   ]
  },
  {
   "cell_type": "code",
   "execution_count": 14,
   "id": "current-blame",
   "metadata": {},
   "outputs": [
    {
     "data": {
      "text/plain": [
       "7932"
      ]
     },
     "execution_count": 14,
     "metadata": {},
     "output_type": "execute_result"
    }
   ],
   "source": [
    "len(attribute_dataset[attribute_dataset.sector==\"SECTOR_3\"])"
   ]
  },
  {
   "cell_type": "code",
   "execution_count": 15,
   "id": "unexpected-theorem",
   "metadata": {},
   "outputs": [
    {
     "data": {
      "text/plain": [
       "5958"
      ]
     },
     "execution_count": 15,
     "metadata": {},
     "output_type": "execute_result"
    }
   ],
   "source": [
    "len(attribute_dataset[attribute_dataset.sector==\"SECTOR_4\"])"
   ]
  },
  {
   "cell_type": "code",
   "execution_count": 16,
   "id": "violent-affair",
   "metadata": {},
   "outputs": [
    {
     "data": {
      "text/plain": [
       "4728"
      ]
     },
     "execution_count": 16,
     "metadata": {},
     "output_type": "execute_result"
    }
   ],
   "source": [
    "len(attribute_dataset[attribute_dataset.sector==\"SECTOR_5\"])"
   ]
  },
  {
   "cell_type": "code",
   "execution_count": 17,
   "id": "advance-consultation",
   "metadata": {},
   "outputs": [
    {
     "data": {
      "text/plain": [
       "6926"
      ]
     },
     "execution_count": 17,
     "metadata": {},
     "output_type": "execute_result"
    }
   ],
   "source": [
    "len(attribute_dataset[attribute_dataset.sector==\"SECTOR_6\"])"
   ]
  },
  {
   "cell_type": "code",
   "execution_count": null,
   "id": "assured-methodology",
   "metadata": {},
   "outputs": [],
   "source": []
  },
  {
   "cell_type": "markdown",
   "id": "consolidated-tablet",
   "metadata": {},
   "source": [
    "## The Contact Reference Graph [referee --> referral] "
   ]
  },
  {
   "cell_type": "markdown",
   "id": "bound-somewhere",
   "metadata": {},
   "source": [
    "### No Attributes"
   ]
  },
  {
   "cell_type": "code",
   "execution_count": 18,
   "id": "universal-binding",
   "metadata": {},
   "outputs": [
    {
     "name": "stdout",
     "output_type": "stream",
     "text": [
      "13377 13377\n",
      "19713 13377\n"
     ]
    }
   ],
   "source": [
    "eds=[]\n",
    "for i in range(len(dataset)):\n",
    "    x=dataset.iloc[i]['REFERRAL_CODE']\n",
    "    y=dataset.iloc[i]['REFEREE_CODE']\n",
    "    eds.append((y,x))\n",
    "print(len(eds),len(set(eds)))\n",
    "G=nx.DiGraph()\n",
    "G.add_edges_from(eds)\n",
    "print(len(G.nodes()),len(G.edges()))"
   ]
  },
  {
   "cell_type": "code",
   "execution_count": null,
   "id": "paperback-addition",
   "metadata": {},
   "outputs": [
    {
     "name": "stdout",
     "output_type": "stream",
     "text": [
      "8114 19713\n"
     ]
    }
   ],
   "source": [
    "sector_d={}\n",
    "for i in range(len(attribute_dataset)):\n",
    "    p=attribute_dataset.iloc[i][\"covid_patient_code\"]\n",
    "    s=attribute_dataset.iloc[i][\"sector\"]\n",
    "    if p in G.nodes():\n",
    "        sector_d[p]=s\n",
    "print(len(sector_d),len(G.nodes()))"
   ]
  },
  {
   "cell_type": "code",
   "execution_count": null,
   "id": "authentic-forest",
   "metadata": {},
   "outputs": [
    {
     "name": "stdout",
     "output_type": "stream",
     "text": [
      "8114\n"
     ]
    }
   ],
   "source": [
    "geonodes=[n for n in G.nodes() if n in sector_d.keys()]\n",
    "print(len(geonodes))"
   ]
  },
  {
   "cell_type": "code",
   "execution_count": null,
   "id": "acceptable-council",
   "metadata": {},
   "outputs": [
    {
     "name": "stdout",
     "output_type": "stream",
     "text": [
      "The digraph of covid-19 contacts in Bucharest has 19713 nodes and 13377 edges \n",
      "\n",
      "The digraph of covid-19 contacts in Bucharest is a directed graph\n",
      "The digraph of covid-19 contacts in Bucharest is a simple graph\n",
      "The digraph of covid-19 contacts in Bucharest is an unweighted graph\n",
      "The digraph of covid-19 contacts in Bucharest is not a bipartite graph\n",
      "The digraph of covid-19 contacts in Bucharest is not a tree \n",
      "\n",
      "The digraph of covid-19 contacts in Bucharest is not strongly connected and it has 19604 strongly connected components\n",
      "The largest strongly connected component of this graph has 3 nodes and 6 edges\n",
      "11 strongly connected components with 3 nodes ([6, 5, 4, 4, 6, 4, 4, 4, 5, 4, 6] edges)\n",
      "87 strongly connected components with 2 nodes (1 edge)\n",
      "19506 strongly connected components with 1 nodes (0 edges)\n",
      " \n",
      "The digraph of covid-19 contacts in Bucharest is not weakly connected and it has 6502 weakly connected components\n",
      "The largest weakly connected component of this graph has 20 nodes and 19 edges\n",
      "1 weakly connected components with 20 nodes (19 edges)\n",
      "1 weakly connected components with 18 nodes (18 edges)\n",
      "1 weakly connected components with 17 nodes (16 edges)\n",
      "2 weakly connected components with 16 nodes (15 edges)\n",
      "2 weakly connected components with 15 nodes (14 edges)\n",
      "2 weakly connected components with 14 nodes (13 edges)\n",
      "4 weakly connected components with 13 nodes (12 edges)\n",
      "5 weakly connected components with 12 nodes (11 edges)\n",
      "9 weakly connected components with 11 nodes (10 edges)\n",
      "14 weakly connected components with 10 nodes (10 edges)\n",
      "24 weakly connected components with 9 nodes ({8, 9, 10, 12} edges)\n",
      "48 weakly connected components with 8 nodes ({9, 10, 7} edges)\n",
      "80 weakly connected components with 7 nodes ({8, 6, 7} edges)\n",
      "152 weakly connected components with 6 nodes ({5, 6, 7, 8, 9} edges)\n",
      "335 weakly connected components with 5 nodes ({10, 4, 5, 6} edges)\n",
      "1014 weakly connected components with 4 nodes ({3, 4, 5, 6, 7} edges)\n",
      "1798 weakly connected components with 3 nodes ({2, 3, 4, 6} edges)\n",
      "3010 weakly connected components with 2 nodes (1 edge)\n",
      " \n",
      "The digraph of covid-19 contacts in Bucharest has no isolates \n",
      "\n",
      "The density of the digraph of covid-19 contacts in Bucharest is 0.00003\n",
      "The transitivity of the digraph of covid-19 contacts in Bucharest is 0.004\n",
      "The reciprocity of the digraph of covid-19 contacts in Bucharest is 0.016\n",
      " \n",
      "Diameter not computable: Found infinite path length because the digraph is not strongly connected\n"
     ]
    }
   ],
   "source": [
    "name=\"digraph of covid-19 contacts in Bucharest\"\n",
    "g_diagnostics(G,name)\n",
    "print(\" \")\n",
    "g_diameter(G,name)"
   ]
  },
  {
   "cell_type": "code",
   "execution_count": null,
   "id": "representative-beverage",
   "metadata": {},
   "outputs": [
    {
     "name": "stdout",
     "output_type": "stream",
     "text": [
      "8114 1792\n"
     ]
    }
   ],
   "source": [
    "Ggeo=G.subgraph(geonodes)\n",
    "print(len(Ggeo.nodes()),len(Ggeo.edges()))"
   ]
  },
  {
   "cell_type": "code",
   "execution_count": null,
   "id": "unable-profession",
   "metadata": {},
   "outputs": [
    {
     "name": "stdout",
     "output_type": "stream",
     "text": [
      "The digraph of sector identifies covid-19 contacts in Bucharest has 8114 nodes and 1792 edges \n",
      "\n",
      "The digraph of sector identifies covid-19 contacts in Bucharest is a directed graph\n",
      "The digraph of sector identifies covid-19 contacts in Bucharest is a simple graph\n",
      "The digraph of sector identifies covid-19 contacts in Bucharest is an unweighted graph\n",
      "The digraph of sector identifies covid-19 contacts in Bucharest is not a bipartite graph\n",
      "The digraph of sector identifies covid-19 contacts in Bucharest is not a tree \n",
      "\n",
      "The digraph of sector identifies covid-19 contacts in Bucharest is not strongly connected and it has 8005 strongly connected components\n",
      "The largest strongly connected component of this graph has 3 nodes and 6 edges\n",
      "11 strongly connected components with 3 nodes ([6, 6, 4, 4, 5, 4, 4, 5, 4, 6, 4] edges)\n",
      "87 strongly connected components with 2 nodes (1 edge)\n",
      "7907 strongly connected components with 1 nodes (0 edges)\n",
      " \n",
      "The digraph of sector identifies covid-19 contacts in Bucharest is not weakly connected and it has 6488 weakly connected components\n",
      "The largest weakly connected component of this graph has 10 nodes and 9 edges\n"
     ]
    }
   ],
   "source": [
    "name=\"digraph of sector identifies covid-19 contacts in Bucharest\"\n",
    "g_diagnostics(Ggeo,name)\n",
    "print(\" \")\n",
    "g_diameter(Ggeo,name)"
   ]
  },
  {
   "cell_type": "code",
   "execution_count": null,
   "id": "sporting-olive",
   "metadata": {},
   "outputs": [],
   "source": [
    "nx.set_node_attributes(Ggeo, sector_d, name=\"sector\")\n",
    "Ggeo.nodes(data=True)\n",
    "s=0\n",
    "for n in Ggeo.nodes(data=True):\n",
    "    s+=1\n",
    "#     print(n[0],n[1]['sector'])\n",
    "    if s<20:\n",
    "        print(\"%s is in sector %s\" %(n[0],n[1]['sector']))"
   ]
  },
  {
   "cell_type": "code",
   "execution_count": null,
   "id": "competitive-theme",
   "metadata": {},
   "outputs": [],
   "source": [
    "# asectors=[\"aggr_\"+w for w in sorted(attribute_dataset.sector.unique())]\n",
    "# asectors\n",
    "gedges=[]\n",
    "for e in Ggeo.edges(data=True):\n",
    "    s0=sector_d[e[0]]\n",
    "    s1=sector_d[e[1]]\n",
    "#     print(s0,s1)\n",
    "    gedges.append((\"aggr_\"+s0,\"aggr_\"+s1))\n",
    "print(len(gedges),len(set(gedges)))\n",
    "ggeds=[]\n",
    "for k,v in Counter(gedges).items():\n",
    "    ggeds.append((k[0],k[1],v))\n",
    "ggeds\n",
    "Gsectors=nx.DiGraph()\n",
    "Gsectors.add_weighted_edges_from(ggeds)\n",
    "print(len(Gsectors.nodes()),len(Gsectors.edges()))"
   ]
  },
  {
   "cell_type": "code",
   "execution_count": null,
   "id": "backed-validity",
   "metadata": {},
   "outputs": [],
   "source": [
    "# invsect_d={}\n",
    "# for k,v in sector_d.items():\n",
    "#     t=[]\n",
    "#     for n in Ggeo.nodes(data=True):\n",
    "#         if n[1]['sector']==v:\n",
    "#             t.append(n[0])\n",
    "#     invsect_d[\"aggr_\"+v]=t\n",
    "# invsect_d"
   ]
  },
  {
   "cell_type": "code",
   "execution_count": null,
   "id": "mature-elevation",
   "metadata": {},
   "outputs": [],
   "source": [
    "# with open('SectorsPatients_d.pickle', 'wb') as handle:\n",
    "#     pickle.dump(invsect_d, handle, protocol=pickle.HIGHEST_PROTOCOL)"
   ]
  },
  {
   "cell_type": "code",
   "execution_count": null,
   "id": "single-terrace",
   "metadata": {},
   "outputs": [],
   "source": [
    "with open('SectorsPatients_d.pickle', 'rb') as handle:\n",
    "    invsect_d = pickle.load(handle)\n",
    "for k,v in invsect_d.items():\n",
    "    print(k,len(v))"
   ]
  },
  {
   "cell_type": "code",
   "execution_count": null,
   "id": "temporal-mathematics",
   "metadata": {},
   "outputs": [],
   "source": [
    "linvsect_d={k:len(v) for k,v in invsect_d.items()}\n",
    "nx.set_node_attributes(Gsectors, linvsect_d, name=\"no. of patients\")\n",
    "Gsectors.nodes(data=True)\n",
    "# s=0\n",
    "for n in Gsectors.nodes(data=True):\n",
    "#     s+=1\n",
    "#     print(n[0],n[1]['sector'])\n",
    "#     if s<20:\n",
    "    print(\"%s has %i patients\" %(n[0],n[1]['no. of patients']))"
   ]
  },
  {
   "cell_type": "code",
   "execution_count": null,
   "id": "annoying-function",
   "metadata": {},
   "outputs": [],
   "source": [
    "for e in Gsectors.edges(data=True):\n",
    "    print(e)"
   ]
  },
  {
   "cell_type": "code",
   "execution_count": null,
   "id": "retained-tiffany",
   "metadata": {},
   "outputs": [],
   "source": [
    "soursect=[]\n",
    "targsect=[]\n",
    "pats=[]\n",
    "for e in Gsectors.edges(data=True):\n",
    "    soursect.append(e[0])\n",
    "    targsect.append(e[1])\n",
    "    pats.append(e[2]['weight'])\n",
    "sectors_df=pd.DataFrame({\n",
    "    \"Source Sector\":soursect,\n",
    "    \"Target Sector\":targsect,\n",
    "    \"No. of Patients\":pats\n",
    "})\n",
    "print(len(sectors_df),len(Gsectors.edges()))\n",
    "sectors_df"
   ]
  },
  {
   "cell_type": "code",
   "execution_count": null,
   "id": "dense-philosophy",
   "metadata": {},
   "outputs": [],
   "source": [
    "sectors_df.to_excel(\"SectorsPatients.xlsx\",index=False)"
   ]
  },
  {
   "cell_type": "code",
   "execution_count": null,
   "id": "brave-custom",
   "metadata": {},
   "outputs": [],
   "source": [
    "d=graphviz.Digraph(engine=\"circo\") #fdp\n",
    "for node in Gsectors.nodes():\n",
    "    d.node_attr.update(style='filled', fillcolor='azure')\n",
    "for (u,v) in Gsectors.edges:\n",
    "    d.edge(str(u), str(v), color='forestgreen',label=str(Gsectors[u][v]['weight']))\n",
    "#     if u!=v:\n",
    "#         d.edge(str(u), str(v), color='forestgreen',label=str(Gsectors[u][v]['weight'])\n",
    "#     else:\n",
    "#         d.edge(str(u), str(v), color='red') #label=str(G[u][v]['weight']),\n",
    "d.attr(\"graph\",labelloc=\"t\")\n",
    "d.attr(\"graph\",label=r\"Aggregated Patients' Contacts in Bucharest Sectors\")\n",
    "d.attr(\"graph\",fontsize='20')\n",
    "d.graph_attr.update(size=\"7,7!\",rankdir=\"LR\")\n",
    "d"
   ]
  },
  {
   "cell_type": "code",
   "execution_count": null,
   "id": "ready-binary",
   "metadata": {},
   "outputs": [],
   "source": [
    "# di0,di1,di2=InFlow(G,kind1=10,kind2=100)\n",
    "# print(len(di0),len(di1),len(di2))\n",
    "\n",
    "# with open('InFlow.pickle', 'wb') as handle:\n",
    "#     pickle.dump(di0, handle, protocol=pickle.HIGHEST_PROTOCOL)\n",
    "# with open('InFlowDegree.pickle', 'wb') as handle:\n",
    "#     pickle.dump(di1, handle, protocol=pickle.HIGHEST_PROTOCOL)\n",
    "# with open('InFlowIndex.pickle', 'wb') as handle:\n",
    "#     pickle.dump(di2, handle, protocol=pickle.HIGHEST_PROTOCOL)"
   ]
  },
  {
   "cell_type": "code",
   "execution_count": null,
   "id": "handled-pakistan",
   "metadata": {},
   "outputs": [],
   "source": [
    "with open('InFlow.pickle', 'rb') as handle:\n",
    "    adi0 = pickle.load(handle)\n",
    "with open('InFlowDegree.pickle', 'rb') as handle:\n",
    "    adi1 = pickle.load(handle)\n",
    "with open('InFlowIndex.pickle', 'rb') as handle:\n",
    "    adi2 = pickle.load(handle)    \n",
    "print(len(adi0),len(adi1),len(adi2))    \n",
    "   \n",
    "x = adi0\n",
    "sorted_x = sorted(x.items(), key = lambda kv: kv[1], reverse=True)\n",
    "# for k,v in sorted_x:\n",
    "#     print(k,v)\n",
    "s=0\n",
    "for k,v in sorted_x:\n",
    "    s+=1\n",
    "    if s<10:\n",
    "        print(k,v)"
   ]
  },
  {
   "cell_type": "code",
   "execution_count": null,
   "id": "cross-uruguay",
   "metadata": {},
   "outputs": [],
   "source": [
    "# di0,di1,di2=OutFlow(G,kind1=10,kind2=100)\n",
    "# print(len(di0),len(di1),len(di2))\n",
    "\n",
    "# with open('OutFlow.pickle', 'wb') as handle:\n",
    "#     pickle.dump(di0, handle, protocol=pickle.HIGHEST_PROTOCOL)\n",
    "# with open('OutFlowDegree.pickle', 'wb') as handle:\n",
    "#     pickle.dump(di1, handle, protocol=pickle.HIGHEST_PROTOCOL)\n",
    "# with open('OutFlowIndex.pickle', 'wb') as handle:\n",
    "#     pickle.dump(di2, handle, protocol=pickle.HIGHEST_PROTOCOL)"
   ]
  },
  {
   "cell_type": "code",
   "execution_count": null,
   "id": "indirect-supply",
   "metadata": {},
   "outputs": [],
   "source": [
    "with open('OutFlow.pickle', 'rb') as handle:\n",
    "    ddi0 = pickle.load(handle)\n",
    "with open('OutFlowDegree.pickle', 'rb') as handle:\n",
    "    ddi1 = pickle.load(handle)\n",
    "with open('OutFlowIndex.pickle', 'rb') as handle:\n",
    "    ddi2 = pickle.load(handle)    \n",
    "print(len(ddi0),len(ddi1),len(ddi2))    \n",
    "    \n",
    "x = ddi0\n",
    "sorted_x = sorted(x.items(), key = lambda kv: kv[1], reverse=True)\n",
    "s=0\n",
    "for k,v in sorted_x:\n",
    "    s+=1\n",
    "    if s<10:\n",
    "        print(k,v)"
   ]
  },
  {
   "cell_type": "code",
   "execution_count": null,
   "id": "mineral-muscle",
   "metadata": {},
   "outputs": [],
   "source": [
    "# di0,di1,di2=InFlow(Ggeo,kind1=10,kind2=100)\n",
    "# print(len(di0),len(di1),len(di2))\n",
    "\n",
    "# with open('InFlowSect.pickle', 'wb') as handle:\n",
    "#     pickle.dump(di0, handle, protocol=pickle.HIGHEST_PROTOCOL)\n",
    "# with open('InFlowSectDegree.pickle', 'wb') as handle:\n",
    "#     pickle.dump(di1, handle, protocol=pickle.HIGHEST_PROTOCOL)\n",
    "# with open('InFlowSectIndex.pickle', 'wb') as handle:\n",
    "#     pickle.dump(di2, handle, protocol=pickle.HIGHEST_PROTOCOL)"
   ]
  },
  {
   "cell_type": "code",
   "execution_count": null,
   "id": "competitive-giant",
   "metadata": {},
   "outputs": [],
   "source": [
    "with open('InFlowSect.pickle', 'rb') as handle:\n",
    "    adi0 = pickle.load(handle)\n",
    "with open('InFlowSectDegree.pickle', 'rb') as handle:\n",
    "    adi1 = pickle.load(handle)\n",
    "with open('InFlowSectIndex.pickle', 'rb') as handle:\n",
    "    adi2 = pickle.load(handle)    \n",
    "print(len(adi0),len(adi1),len(adi2))    \n",
    "   \n",
    "x = adi0\n",
    "sorted_x = sorted(x.items(), key = lambda kv: kv[1], reverse=True)\n",
    "# for k,v in sorted_x:\n",
    "#     print(k,v)\n",
    "s=0\n",
    "for k,v in sorted_x:\n",
    "    s+=1\n",
    "    if s<10:\n",
    "        print(k,v)"
   ]
  },
  {
   "cell_type": "code",
   "execution_count": null,
   "id": "disabled-rates",
   "metadata": {},
   "outputs": [],
   "source": [
    "# di0,di1,di2=OutFlow(Ggeo,kind1=10,kind2=100)\n",
    "# print(len(di0),len(di1),len(di2))\n",
    "\n",
    "# with open('OutFlowSect.pickle', 'wb') as handle:\n",
    "#     pickle.dump(di0, handle, protocol=pickle.HIGHEST_PROTOCOL)\n",
    "# with open('OutFlowSectDegree.pickle', 'wb') as handle:\n",
    "#     pickle.dump(di1, handle, protocol=pickle.HIGHEST_PROTOCOL)\n",
    "# with open('OutFlowSectIndex.pickle', 'wb') as handle:\n",
    "#     pickle.dump(di2, handle, protocol=pickle.HIGHEST_PROTOCOL)"
   ]
  },
  {
   "cell_type": "code",
   "execution_count": null,
   "id": "dress-caribbean",
   "metadata": {},
   "outputs": [],
   "source": [
    "with open('OutFlowSect.pickle', 'rb') as handle:\n",
    "    ddi0 = pickle.load(handle)\n",
    "with open('OutFlowSectDegree.pickle', 'rb') as handle:\n",
    "    ddi1 = pickle.load(handle)\n",
    "with open('OutFlowSectIndex.pickle', 'rb') as handle:\n",
    "    ddi2 = pickle.load(handle)    \n",
    "print(len(ddi0),len(ddi1),len(ddi2))    \n",
    "    \n",
    "x = ddi0\n",
    "sorted_x = sorted(x.items(), key = lambda kv: kv[1], reverse=True)\n",
    "s=0\n",
    "for k,v in sorted_x:\n",
    "    s+=1\n",
    "    if s<10:\n",
    "        print(k,v)"
   ]
  },
  {
   "cell_type": "code",
   "execution_count": null,
   "id": "awful-resistance",
   "metadata": {},
   "outputs": [],
   "source": [
    "adi0_eds=[]\n",
    "for k,v in adi0.items():\n",
    "    for vv in v:\n",
    "#         print(k,sector_d[k],vv,sector_d[vv])\n",
    "        adi0_eds.append((\"aggr_\"+sector_d[vv],\"aggr_\"+sector_d[k]))\n",
    "ggeds=[]\n",
    "for k,v in Counter(adi0_eds).items():\n",
    "    ggeds.append((k[0],k[1],v))\n",
    "ggeds\n",
    "Gdomsect=nx.DiGraph()\n",
    "Gdomsect.add_weighted_edges_from(ggeds)\n",
    "print(len(Gdomsect.nodes()),len(Gdomsect.edges()))"
   ]
  },
  {
   "cell_type": "code",
   "execution_count": null,
   "id": "stupid-toyota",
   "metadata": {},
   "outputs": [],
   "source": [
    "for e in Gdomsect.edges(data=True):\n",
    "    print(e)"
   ]
  },
  {
   "cell_type": "code",
   "execution_count": null,
   "id": "announced-parallel",
   "metadata": {},
   "outputs": [],
   "source": [
    "soursect=[]\n",
    "targsect=[]\n",
    "pats=[]\n",
    "for e in Gdomsect.edges(data=True):\n",
    "    soursect.append(e[0])\n",
    "    targsect.append(e[1])\n",
    "    pats.append(e[2]['weight'])\n",
    "dom_sectors_df=pd.DataFrame({\n",
    "    \"Source Sector\":soursect,\n",
    "    \"Target Sector\":targsect,\n",
    "    \"No. of Patients\":pats\n",
    "})\n",
    "print(len(dom_sectors_df),len(Gdomsect.edges()))\n",
    "dom_sectors_df"
   ]
  },
  {
   "cell_type": "code",
   "execution_count": null,
   "id": "vocational-nudist",
   "metadata": {},
   "outputs": [],
   "source": [
    "dom_sectors_df.to_excel(\"DominatedSectorsPatients.xlsx\",index=False)"
   ]
  },
  {
   "cell_type": "code",
   "execution_count": null,
   "id": "parliamentary-listening",
   "metadata": {},
   "outputs": [],
   "source": [
    "d=graphviz.Digraph(engine=\"circo\") #fdp\n",
    "for node in Gdomsect.nodes():\n",
    "    d.node_attr.update(style='filled', fillcolor='azure')\n",
    "for (u,v) in Gdomsect.edges:\n",
    "    d.edge(str(u), str(v), color='forestgreen',label=str(Gdomsect[u][v]['weight']))\n",
    "#     if u!=v:\n",
    "#         d.edge(str(u), str(v), color='forestgreen',label=str(Gsectors[u][v]['weight'])\n",
    "#     else:\n",
    "#         d.edge(str(u), str(v), color='red') #label=str(G[u][v]['weight']),\n",
    "d.attr(\"graph\",labelloc=\"t\")\n",
    "d.attr(\"graph\",label=r\"Dominated Aggregated Patients' Contacts in Bucharest Sectors\")\n",
    "d.attr(\"graph\",fontsize='20')\n",
    "d.graph_attr.update(size=\"7,7!\",rankdir=\"LR\")\n",
    "d"
   ]
  },
  {
   "cell_type": "code",
   "execution_count": null,
   "id": "endangered-hardware",
   "metadata": {},
   "outputs": [],
   "source": [
    "ddi0_eds=[]\n",
    "for k,v in ddi0.items():\n",
    "    for vv in v:\n",
    "#         print(k,sector_d[k],vv,sector_d[vv])\n",
    "        ddi0_eds.append((\"aggr_\"+sector_d[k],\"aggr_\"+sector_d[vv]))\n",
    "ggeds=[]\n",
    "for k,v in Counter(ddi0_eds).items():\n",
    "    ggeds.append((k[0],k[1],v))\n",
    "ggeds\n",
    "Gescsect=nx.DiGraph()\n",
    "Gescsect.add_weighted_edges_from(ggeds)\n",
    "print(len(Gescsect.nodes()),len(Gescsect.edges()))"
   ]
  },
  {
   "cell_type": "code",
   "execution_count": null,
   "id": "incident-consequence",
   "metadata": {},
   "outputs": [],
   "source": [
    "for e in Gescsect.edges(data=True):\n",
    "    print(e)"
   ]
  },
  {
   "cell_type": "code",
   "execution_count": null,
   "id": "detailed-dominican",
   "metadata": {},
   "outputs": [],
   "source": [
    "soursect=[]\n",
    "targsect=[]\n",
    "pats=[]\n",
    "for e in Gescsect.edges(data=True):\n",
    "    soursect.append(e[0])\n",
    "    targsect.append(e[1])\n",
    "    pats.append(e[2]['weight'])\n",
    "esc_sectors_df=pd.DataFrame({\n",
    "    \"Source Sector\":soursect,\n",
    "    \"Target Sector\":targsect,\n",
    "    \"No. of Patients\":pats\n",
    "})\n",
    "print(len(esc_sectors_df),len(Gescsect.edges()))\n",
    "esc_sectors_df"
   ]
  },
  {
   "cell_type": "code",
   "execution_count": null,
   "id": "hearing-convert",
   "metadata": {},
   "outputs": [],
   "source": [
    "esc_sectors_df.to_excel(\"EscapingSectorsPatients.xlsx\",index=False)"
   ]
  },
  {
   "cell_type": "code",
   "execution_count": null,
   "id": "innocent-confidence",
   "metadata": {},
   "outputs": [],
   "source": [
    "d=graphviz.Digraph(engine=\"circo\") #fdp\n",
    "for node in Gescsect.nodes():\n",
    "    d.node_attr.update(style='filled', fillcolor='azure')\n",
    "for (u,v) in Gescsect.edges:\n",
    "    d.edge(str(u), str(v), color='forestgreen',label=str(Gescsect[u][v]['weight']))\n",
    "#     if u!=v:\n",
    "#         d.edge(str(u), str(v), color='forestgreen',label=str(Gsectors[u][v]['weight'])\n",
    "#     else:\n",
    "#         d.edge(str(u), str(v), color='red') #label=str(G[u][v]['weight']),\n",
    "d.attr(\"graph\",labelloc=\"t\")\n",
    "d.attr(\"graph\",label=r\"Escaping Aggregated Patients' Contacts in Bucharest Sectors\")\n",
    "d.attr(\"graph\",fontsize='20')\n",
    "d.graph_attr.update(size=\"7,7!\",rankdir=\"LR\")\n",
    "d"
   ]
  },
  {
   "cell_type": "code",
   "execution_count": null,
   "id": "loose-divide",
   "metadata": {},
   "outputs": [],
   "source": [
    "d=graphviz.Digraph(engine=\"dot\") #\n",
    "for node in Gescsect.nodes():\n",
    "    d.node_attr.update(style='filled', fillcolor='azure')\n",
    "for (u,v) in Gescsect.edges:\n",
    "    d.edge(str(u), str(v), color='forestgreen',label=str(Gescsect[u][v]['weight']))\n",
    "#     if u!=v:\n",
    "#         d.edge(str(u), str(v), color='forestgreen',label=str(Gsectors[u][v]['weight'])\n",
    "#     else:\n",
    "#         d.edge(str(u), str(v), color='red') #label=str(G[u][v]['weight']),\n",
    "d.attr(\"graph\",labelloc=\"t\")\n",
    "d.attr(\"graph\",label=r\"Escaping Aggregated Patients' Contacts in Bucharest Sectors\")\n",
    "d.attr(\"graph\",fontsize='20')\n",
    "d.graph_attr.update(size=\"7,7!\",rankdir=\"LR\")\n",
    "d"
   ]
  },
  {
   "cell_type": "code",
   "execution_count": null,
   "id": "owned-missile",
   "metadata": {},
   "outputs": [],
   "source": []
  }
 ],
 "metadata": {
  "kernelspec": {
   "display_name": "Python 3",
   "language": "python",
   "name": "python3"
  },
  "language_info": {
   "codemirror_mode": {
    "name": "ipython",
    "version": 3
   },
   "file_extension": ".py",
   "mimetype": "text/x-python",
   "name": "python",
   "nbconvert_exporter": "python",
   "pygments_lexer": "ipython3",
   "version": "3.7.1"
  }
 },
 "nbformat": 4,
 "nbformat_minor": 5
}
