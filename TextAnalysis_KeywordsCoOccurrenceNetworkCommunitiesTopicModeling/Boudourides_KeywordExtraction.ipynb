{
 "cells": [
  {
   "cell_type": "markdown",
   "metadata": {},
   "source": [
    "## KEYWORD EXTRACTION USING GENSIM"
   ]
  },
  {
   "cell_type": "code",
   "execution_count": 1,
   "metadata": {},
   "outputs": [],
   "source": [
    "import random\n",
    "from gensim.summarization import keywords\n",
    "import warnings\n",
    "warnings.filterwarnings(\"ignore\", category=RuntimeWarning) "
   ]
  },
  {
   "cell_type": "markdown",
   "metadata": {},
   "source": [
    "### The Reuters Dataset"
   ]
  },
  {
   "cell_type": "code",
   "execution_count": 2,
   "metadata": {},
   "outputs": [
    {
     "data": {
      "text/plain": [
       "10788"
      ]
     },
     "execution_count": 2,
     "metadata": {},
     "output_type": "execute_result"
    },
    {
     "data": {
      "text/plain": [
       "10788"
      ]
     },
     "execution_count": 2,
     "metadata": {},
     "output_type": "execute_result"
    }
   ],
   "source": [
    "from nltk.corpus import reuters\n",
    "\n",
    "len(reuters.fileids())"
   ]
  },
  {
   "cell_type": "code",
   "execution_count": 3,
   "metadata": {},
   "outputs": [],
   "source": [
    "sample_size=100\n",
    "sid=random.sample([t for t in reuters.fileids() if 'training' in t],sample_size)\n",
    "docs={s:reuters.raw(s) for s in sid}"
   ]
  },
  {
   "cell_type": "markdown",
   "metadata": {},
   "source": [
    "### Keywords"
   ]
  },
  {
   "cell_type": "markdown",
   "metadata": {},
   "source": [
    "https://radimrehurek.com/gensim/summarization/keywords.html"
   ]
  },
  {
   "cell_type": "code",
   "execution_count": 4,
   "metadata": {
    "scrolled": false
   },
   "outputs": [
    {
     "name": "stderr",
     "output_type": "stream",
     "text": [
      "/Users/mosesboudourides/anaconda2/lib/python2.7/site-packages/scipy/sparse/linalg/eigen/arpack/arpack.py:1254: RuntimeWarning: k >= N - 1 for N * N square matrix. Attempting to use scipy.linalg.eig instead.\n",
      "  RuntimeWarning)\n",
      "/Users/mosesboudourides/anaconda2/lib/python2.7/site-packages/scipy/sparse/linalg/eigen/arpack/arpack.py:1254: RuntimeWarning: k >= N - 1 for N * N square matrix. Attempting to use scipy.linalg.eig instead.\n",
      "  RuntimeWarning)\n"
     ]
    },
    {
     "name": "stdout",
     "output_type": "stream",
     "text": [
      "4306 [u'registered', u'spanish']\n",
      "762 [u'amca', u'assets', u'bridge', u'restructuring', u'generate', u'center']\n",
      "8982 [u'control', u'exporting', u'department', u'foreign', u'restrictions', u'policies', u'red', u'primary', u'countries']\n",
      "3597 [u'profit', u'chairman', u'klaus', u'raab', u'marks']\n",
      "6412 [u'oil', u'offer', u'contract', u'tender']\n",
      "1940 [u'chang', u'tariff', u'foreign', u'trade', u'local interbank']\n",
      "11910 [u'sale', u'equipment', u'business', u'allis', u'proceeds', u'quebec', u'britain']\n",
      "3853 [u'dlrs', u'loss']\n",
      "3997 [u'stock', u'barrick', u'drilling', u'nevada', u'gold', u'intersections']\n",
      "11701 [u'consumers']\n",
      "2013 [u'capital', u'financial', u'confident', u'net', u'assets']\n",
      "3760 [u'net', u'consolidated']\n",
      "10908 [u'state', u'stake', u'life', u'refining']\n",
      "14354 [u'weather', u'seedbed', u'cotton', u'preparation', u'farmers']\n",
      "9066 [u'shrs']\n",
      "1157 [u'loss']\n",
      "7398 [u'net']\n",
      "3332 [u'oil', u'minister', u'revenues', u'province', u'president', u'mln', u'press', u'left', u'febres', u'crude']\n",
      "9906 [u'lakes', u'vessels', u'seaway', u'opened']\n",
      "6797 [u'emhart', u'revenues', u'markets', u'products', u'industrial']\n",
      "11370 [u'meadows', u'mortgage']\n",
      "13090 [u'store', u'food']\n",
      "8978 [u'cocoa', u'exporters', u'icco']\n",
      "13690 [u'gold', u'foreign', u'total', u'versus']\n",
      "1080 [u'net', u'taxes', u'shr', u'average', u'climate', u'drafts', u'stock', u'business', u'losses']\n",
      "12424 [u'coffee', u'embu', u'trade', u'main', u'week', u'past']\n",
      "6456 [u'net', u'american', u'forest', u'note']\n",
      "10238 [u'tire', u'court', u'appeal', u'martha']\n",
      "12857 [u'lefebvre', u'short', u'finished']\n",
      "2785 [u'gold', u'group', u'concession']\n",
      "5253 [u'data', u'reserve', u'money', u'stock']\n",
      "4419 [u'years', u'net']\n",
      "13611 [u'shiviyacu', u'amazon', u'petroleum']\n",
      "9547 [u'hikes']\n",
      "1010 [u'dlrs', u'oper', u'net']\n",
      "9841 [u'rates', u'supply', u'money', u'record', u'term', u'banks', u'excess', u'liquidity', u'speculative']\n",
      "12840 [u'help', u'late']\n",
      "7159 [u'market', u'reserve', u'federal']\n",
      "12345 [u'unit', u'petro', u'mdc']\n",
      "849 [u'rights', u'stock']\n",
      "6504 [u'net', u'shr']\n",
      "8728 [u'stg', u'bank']\n",
      "14285 [u'year']\n",
      "512 [u'march', u'federal']\n",
      "5976 [u'loss', u'shrs']\n",
      "517 [u'record']\n",
      "2595 [u'canada']\n",
      "10659 [u'market', u'rates', u'necessary economic', u'house']\n",
      "10387 [u'split', u'approved']\n",
      "10555 [u'danforth', u'radio', u'westinghouse', u'electrics', u'waste energy', u'earned']\n",
      "13320 [u'kuwaiti', u'flagging', u'tanker', u'war', u'york']\n",
      "2802 [u'share', u'management', u'industries', u'fairchild', u'investors', u'york', u'stock', u'future', u'antitrust', u'company']\n",
      "7287 [u'petroleum', u'oil', u'api', u'products', u'february', u'supplies']\n",
      "6538 [u'trus', u'door']\n",
      "977 [u'coffee', u'ico', u'quota', u'price', u'dutch', u'basis', u'roasters', u'association']\n",
      "11925 [u'valhi', u'proxy', u'shares']\n",
      "1980 [u'ice', u'steel', u'oil', u'soviet']\n",
      "8614 [u'mln', u'profit', u'plc']\n",
      "3089 [u'cardiology', u'price', u'imatron']\n",
      "4460 [u'cts']\n",
      "5783 [u'quarter', u'agency', u'gnp', u'local']\n",
      "2620 [u'trade', u'treasury', u'international', u'agreement', u'paris', u'economic']\n",
      "5109 [u'figures', u'corn', u'trade', u'planting', u'sign', u'acre', u'program', u'conservation', u'burnham', u'bache', u'bonus', u'loewy analyst', u'payment', u'enrolled']\n",
      "6616 [u'financial', u'fla', u'approval']\n",
      "9748 [u'german']\n",
      "4933 [u'cyclops', u'group', u'offer', u'investor', u'commitments', u'capital']\n",
      "1996 [u'usair', u'price', u'twa', u'world', u'merger', u'legal', u'interests', u'bid', u'approval', u'department']\n",
      "5717 [u'farm', u'jopling', u'agriculture', u'trade', u'subsidies', u'british', u'minister', u'community']\n",
      "3681 [u'mln', u'net', u'year']\n",
      "2107 [u'larger', u'concern']\n",
      "1488 [u'payable']\n",
      "8374 [u'intervention', u'commissioner', u'premium', u'trade', u'coceral']\n",
      "4241 [u'record']\n",
      "6505 [u'jan']\n",
      "14718 [u'export', u'tender']\n",
      "6898 [u'tender', u'export']\n",
      "12192 [u'agriculture', u'gao', u'payments', u'accounting', u'costs']\n",
      "11251 [u'order', u'shipbuilders', u'sydney', u'hapag', u'container', u'new']\n",
      "81 [u'banks', u'borrowings', u'week', u'discount']\n",
      "5194 [u'news', u'prime']\n",
      "45 [u'chemlawn', u'offered', u'schlang analyst', u'cash', u'today', u'care', u'growth', u'street', u'wastes', u'management', u'bids']\n",
      "2220 [u'tool']\n",
      "7073 [u'revenues', u'year', u'iomega', u'loss', u'quarter']\n",
      "5804 [u'japan']\n",
      "2542 [u'pay', u'national', u'company', u'pct', u'marine', u'union', u'ships', u'foreign', u'almir']\n",
      "11315 [u'ministers', u'financial', u'financing', u'mediterranean']\n",
      "8244 [u'trade', u'economic', u'general', u'payment']\n",
      "8722 [u'shares', u'sterivet']\n",
      "12398 [u'rates', u'deposit', u'banks', u'lending']\n",
      "4155 [u'operations', u'net', u'year']\n",
      "11795 [u'estimate', u'gnp', u'growth', u'year', u'domestic']\n",
      "2236 [u'dlrs']\n",
      "473 [u'multi', u'dlrs', u'penhale']\n",
      "8761 [u'firm', u'catena', u'mln', u'company']\n",
      "6079 [u'target government farm', u'house', u'rep', u'wheat', u'new', u'subcommittee', u'proposal', u'pat']\n",
      "475 [u'repurchase', u'reserve', u'federal', u'securities']\n",
      "9697 [u'trade', u'dlrs', u'network']\n",
      "4306 [u'registered', u'spanish']\n",
      "762 [u'amca', u'assets', u'bridge', u'restructuring', u'generate', u'center']\n",
      "8982 [u'control', u'exporting', u'department', u'foreign', u'restrictions', u'policies', u'red', u'primary', u'countries']\n",
      "3597 [u'profit', u'chairman', u'klaus', u'raab', u'marks']\n",
      "6412 [u'oil', u'offer', u'contract', u'tender']\n",
      "1940 [u'chang', u'tariff', u'foreign', u'trade', u'local interbank']\n",
      "11910 [u'sale', u'equipment', u'business', u'allis', u'proceeds', u'quebec', u'britain']\n",
      "3853 [u'dlrs', u'loss']\n",
      "3997 [u'stock', u'barrick', u'drilling', u'nevada', u'gold', u'intersections']\n",
      "11701 [u'consumers']\n",
      "2013 [u'capital', u'financial', u'confident', u'net', u'assets']\n",
      "3760 [u'net', u'consolidated']\n",
      "10908 [u'state', u'stake', u'life', u'refining']\n",
      "14354 [u'weather', u'seedbed', u'cotton', u'preparation', u'farmers']\n",
      "9066 [u'shrs']\n",
      "1157 [u'loss']\n",
      "7398 [u'net']\n",
      "3332 [u'oil', u'minister', u'revenues', u'province', u'president', u'mln', u'press', u'left', u'febres', u'crude']\n",
      "9906 [u'lakes', u'vessels', u'seaway', u'opened']\n",
      "6797 [u'emhart', u'revenues', u'markets', u'products', u'industrial']\n",
      "11370 [u'meadows', u'mortgage']\n",
      "13090 [u'store', u'food']\n",
      "8978 [u'cocoa', u'exporters', u'icco']\n",
      "13690 [u'gold', u'foreign', u'total', u'versus']\n",
      "1080 [u'net', u'taxes', u'shr', u'average', u'climate', u'drafts', u'stock', u'business', u'losses']\n",
      "12424 [u'coffee', u'embu', u'trade', u'main', u'week', u'past']\n",
      "6456 [u'net', u'american', u'forest', u'note']\n",
      "10238 [u'tire', u'court', u'appeal', u'martha']\n",
      "12857 [u'lefebvre', u'short', u'finished']\n",
      "2785 [u'gold', u'group', u'concession']\n",
      "5253 [u'data', u'reserve', u'money', u'stock']\n",
      "4419 [u'years', u'net']\n",
      "13611 [u'shiviyacu', u'amazon', u'petroleum']\n",
      "9547 [u'hikes']\n",
      "1010 [u'dlrs', u'oper', u'net']\n",
      "9841 [u'rates', u'supply', u'money', u'record', u'term', u'banks', u'excess', u'liquidity', u'speculative']\n",
      "12840 [u'help', u'late']\n",
      "7159 [u'market', u'reserve', u'federal']\n",
      "12345 [u'unit', u'petro', u'mdc']\n",
      "849 [u'rights', u'stock']\n",
      "6504 [u'net', u'shr']\n",
      "8728 [u'stg', u'bank']\n",
      "14285 [u'year']\n",
      "512 [u'march', u'federal']\n",
      "5976 [u'loss', u'shrs']\n",
      "517 [u'record']\n",
      "2595 [u'canada']\n",
      "10659 [u'market', u'rates', u'necessary economic', u'house']\n",
      "10387 [u'split', u'approved']\n",
      "10555 [u'danforth', u'radio', u'westinghouse', u'electrics', u'waste energy', u'earned']\n",
      "13320 [u'kuwaiti', u'flagging', u'tanker', u'war', u'york']\n",
      "2802 [u'share', u'management', u'industries', u'fairchild', u'investors', u'york', u'stock', u'future', u'antitrust', u'company']\n",
      "7287 [u'petroleum', u'oil', u'api', u'products', u'february', u'supplies']\n",
      "6538 [u'trus', u'door']\n",
      "977 [u'coffee', u'ico', u'quota', u'price', u'dutch', u'basis', u'roasters', u'association']\n",
      "11925 [u'valhi', u'proxy', u'shares']\n",
      "1980 [u'ice', u'steel', u'oil', u'soviet']\n",
      "8614 [u'mln', u'profit', u'plc']\n",
      "3089 [u'cardiology', u'price', u'imatron']\n",
      "4460 [u'cts']\n",
      "5783 [u'quarter', u'agency', u'gnp', u'local']\n",
      "2620 [u'trade', u'treasury', u'international', u'agreement', u'paris', u'economic']\n",
      "5109 [u'figures', u'corn', u'trade', u'planting', u'sign', u'acre', u'program', u'conservation', u'burnham', u'bache', u'bonus', u'loewy analyst', u'payment', u'enrolled']\n",
      "6616 [u'financial', u'fla', u'approval']\n",
      "9748 [u'german']\n",
      "4933 [u'cyclops', u'group', u'offer', u'investor', u'commitments', u'capital']\n",
      "1996 [u'usair', u'price', u'twa', u'world', u'merger', u'legal', u'interests', u'bid', u'approval', u'department']\n",
      "5717 [u'farm', u'jopling', u'agriculture', u'trade', u'subsidies', u'british', u'minister', u'community']\n",
      "3681 [u'mln', u'net', u'year']\n",
      "2107 [u'larger', u'concern']\n",
      "1488 [u'payable']\n",
      "8374 [u'intervention', u'commissioner', u'premium', u'trade', u'coceral']\n",
      "4241 [u'record']\n",
      "6505 [u'jan']\n",
      "14718 [u'export', u'tender']\n",
      "6898 [u'tender', u'export']\n",
      "12192 [u'agriculture', u'gao', u'payments', u'accounting', u'costs']\n",
      "11251 [u'order', u'shipbuilders', u'sydney', u'hapag', u'container', u'new']\n",
      "81 [u'banks', u'borrowings', u'week', u'discount']\n",
      "5194 [u'news', u'prime']\n",
      "45 [u'chemlawn', u'offered', u'schlang analyst', u'cash', u'today', u'care', u'growth', u'street', u'wastes', u'management', u'bids']\n",
      "2220 [u'tool']\n",
      "7073 [u'revenues', u'year', u'iomega', u'loss', u'quarter']\n",
      "5804 [u'japan']\n",
      "2542 [u'pay', u'national', u'company', u'pct', u'marine', u'union', u'ships', u'foreign', u'almir']\n",
      "11315 [u'ministers', u'financial', u'financing', u'mediterranean']\n",
      "8244 [u'trade', u'economic', u'general', u'payment']\n",
      "8722 [u'shares', u'sterivet']\n",
      "12398 [u'rates', u'deposit', u'banks', u'lending']\n",
      "4155 [u'operations', u'net', u'year']\n",
      "11795 [u'estimate', u'gnp', u'growth', u'year', u'domestic']\n",
      "2236 [u'dlrs']\n",
      "473 [u'multi', u'dlrs', u'penhale']\n",
      "8761 [u'firm', u'catena', u'mln', u'company']\n",
      "6079 [u'target government farm', u'house', u'rep', u'wheat', u'new', u'subcommittee', u'proposal', u'pat']\n",
      "475 [u'repurchase', u'reserve', u'federal', u'securities']\n",
      "9697 [u'trade', u'dlrs', u'network']\n"
     ]
    }
   ],
   "source": [
    "kwd={}\n",
    "for k,v in docs.items():\n",
    "    try:\n",
    "        kw=keywords(v,lemmatize=True).split('\\n')\n",
    "        for i in kw:\n",
    "            if i!='':\n",
    "                kwd[k.replace(\"training/\",\"\")]=kw #, words=10  \n",
    "    except:\n",
    "        continue\n",
    "for k,v in kwd.items():\n",
    "    if v!=list(''):\n",
    "        print k,v"
   ]
  },
  {
   "cell_type": "code",
   "execution_count": null,
   "metadata": {},
   "outputs": [],
   "source": []
  },
  {
   "cell_type": "code",
   "execution_count": null,
   "metadata": {},
   "outputs": [],
   "source": []
  },
  {
   "cell_type": "code",
   "execution_count": null,
   "metadata": {},
   "outputs": [],
   "source": []
  }
 ],
 "metadata": {
  "kernelspec": {
   "display_name": "Python 2",
   "language": "python",
   "name": "python2"
  },
  "language_info": {
   "codemirror_mode": {
    "name": "ipython",
    "version": 2
   },
   "file_extension": ".py",
   "mimetype": "text/x-python",
   "name": "python",
   "nbconvert_exporter": "python",
   "pygments_lexer": "ipython2",
   "version": "2.7.15"
  }
 },
 "nbformat": 4,
 "nbformat_minor": 2
}
